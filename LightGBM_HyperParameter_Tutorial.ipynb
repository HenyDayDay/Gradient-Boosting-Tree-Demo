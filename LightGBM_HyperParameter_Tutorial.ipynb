{
 "cells": [
  {
   "cell_type": "markdown",
   "metadata": {},
   "source": [
    "### 00 Environment"
   ]
  },
  {
   "cell_type": "code",
   "execution_count": 1,
   "metadata": {},
   "outputs": [
    {
     "data": {
      "text/html": [
       "<style>.container { width:100% !important; }</style>"
      ],
      "text/plain": [
       "<IPython.core.display.HTML object>"
      ]
     },
     "metadata": {},
     "output_type": "display_data"
    }
   ],
   "source": [
    "from IPython.core.display import display, HTML\n",
    "display(HTML(\"<style>.container { width:100% !important; }</style>\"))"
   ]
  },
  {
   "cell_type": "code",
   "execution_count": 2,
   "metadata": {},
   "outputs": [],
   "source": [
    "%%capture\n",
    "!pip install lightgbm"
   ]
  },
  {
   "cell_type": "code",
   "execution_count": 3,
   "metadata": {},
   "outputs": [
    {
     "name": "stderr",
     "output_type": "stream",
     "text": [
      "/Library/anaconda3/lib/python3.7/site-packages/lightgbm/__init__.py:48: UserWarning: Starting from version 2.2.1, the library file in distribution wheels for macOS is built by the Apple Clang (Xcode_8.3.3) compiler.\n",
      "This means that in case of installing LightGBM from PyPI via the ``pip install lightgbm`` command, you don't need to install the gcc compiler anymore.\n",
      "Instead of that, you need to install the OpenMP library, which is required for running LightGBM on the system with the Apple Clang compiler.\n",
      "You can install the OpenMP library by the following command: ``brew install libomp``.\n",
      "  \"You can install the OpenMP library by the following command: ``brew install libomp``.\", UserWarning)\n"
     ]
    },
    {
     "data": {
      "text/html": [
       "\n",
       "    <div class=\"bk-root\">\n",
       "        <a href=\"https://bokeh.org\" target=\"_blank\" class=\"bk-logo bk-logo-small bk-logo-notebook\"></a>\n",
       "        <span id=\"1001\">Loading BokehJS ...</span>\n",
       "    </div>"
      ]
     },
     "metadata": {},
     "output_type": "display_data"
    },
    {
     "data": {
      "application/javascript": [
       "\n",
       "(function(root) {\n",
       "  function now() {\n",
       "    return new Date();\n",
       "  }\n",
       "\n",
       "  var force = true;\n",
       "\n",
       "  if (typeof root._bokeh_onload_callbacks === \"undefined\" || force === true) {\n",
       "    root._bokeh_onload_callbacks = [];\n",
       "    root._bokeh_is_loading = undefined;\n",
       "  }\n",
       "\n",
       "  var JS_MIME_TYPE = 'application/javascript';\n",
       "  var HTML_MIME_TYPE = 'text/html';\n",
       "  var EXEC_MIME_TYPE = 'application/vnd.bokehjs_exec.v0+json';\n",
       "  var CLASS_NAME = 'output_bokeh rendered_html';\n",
       "\n",
       "  /**\n",
       "   * Render data to the DOM node\n",
       "   */\n",
       "  function render(props, node) {\n",
       "    var script = document.createElement(\"script\");\n",
       "    node.appendChild(script);\n",
       "  }\n",
       "\n",
       "  /**\n",
       "   * Handle when an output is cleared or removed\n",
       "   */\n",
       "  function handleClearOutput(event, handle) {\n",
       "    var cell = handle.cell;\n",
       "\n",
       "    var id = cell.output_area._bokeh_element_id;\n",
       "    var server_id = cell.output_area._bokeh_server_id;\n",
       "    // Clean up Bokeh references\n",
       "    if (id != null && id in Bokeh.index) {\n",
       "      Bokeh.index[id].model.document.clear();\n",
       "      delete Bokeh.index[id];\n",
       "    }\n",
       "\n",
       "    if (server_id !== undefined) {\n",
       "      // Clean up Bokeh references\n",
       "      var cmd = \"from bokeh.io.state import curstate; print(curstate().uuid_to_server['\" + server_id + \"'].get_sessions()[0].document.roots[0]._id)\";\n",
       "      cell.notebook.kernel.execute(cmd, {\n",
       "        iopub: {\n",
       "          output: function(msg) {\n",
       "            var id = msg.content.text.trim();\n",
       "            if (id in Bokeh.index) {\n",
       "              Bokeh.index[id].model.document.clear();\n",
       "              delete Bokeh.index[id];\n",
       "            }\n",
       "          }\n",
       "        }\n",
       "      });\n",
       "      // Destroy server and session\n",
       "      var cmd = \"import bokeh.io.notebook as ion; ion.destroy_server('\" + server_id + \"')\";\n",
       "      cell.notebook.kernel.execute(cmd);\n",
       "    }\n",
       "  }\n",
       "\n",
       "  /**\n",
       "   * Handle when a new output is added\n",
       "   */\n",
       "  function handleAddOutput(event, handle) {\n",
       "    var output_area = handle.output_area;\n",
       "    var output = handle.output;\n",
       "\n",
       "    // limit handleAddOutput to display_data with EXEC_MIME_TYPE content only\n",
       "    if ((output.output_type != \"display_data\") || (!output.data.hasOwnProperty(EXEC_MIME_TYPE))) {\n",
       "      return\n",
       "    }\n",
       "\n",
       "    var toinsert = output_area.element.find(\".\" + CLASS_NAME.split(' ')[0]);\n",
       "\n",
       "    if (output.metadata[EXEC_MIME_TYPE][\"id\"] !== undefined) {\n",
       "      toinsert[toinsert.length - 1].firstChild.textContent = output.data[JS_MIME_TYPE];\n",
       "      // store reference to embed id on output_area\n",
       "      output_area._bokeh_element_id = output.metadata[EXEC_MIME_TYPE][\"id\"];\n",
       "    }\n",
       "    if (output.metadata[EXEC_MIME_TYPE][\"server_id\"] !== undefined) {\n",
       "      var bk_div = document.createElement(\"div\");\n",
       "      bk_div.innerHTML = output.data[HTML_MIME_TYPE];\n",
       "      var script_attrs = bk_div.children[0].attributes;\n",
       "      for (var i = 0; i < script_attrs.length; i++) {\n",
       "        toinsert[toinsert.length - 1].firstChild.setAttribute(script_attrs[i].name, script_attrs[i].value);\n",
       "      }\n",
       "      // store reference to server id on output_area\n",
       "      output_area._bokeh_server_id = output.metadata[EXEC_MIME_TYPE][\"server_id\"];\n",
       "    }\n",
       "  }\n",
       "\n",
       "  function register_renderer(events, OutputArea) {\n",
       "\n",
       "    function append_mime(data, metadata, element) {\n",
       "      // create a DOM node to render to\n",
       "      var toinsert = this.create_output_subarea(\n",
       "        metadata,\n",
       "        CLASS_NAME,\n",
       "        EXEC_MIME_TYPE\n",
       "      );\n",
       "      this.keyboard_manager.register_events(toinsert);\n",
       "      // Render to node\n",
       "      var props = {data: data, metadata: metadata[EXEC_MIME_TYPE]};\n",
       "      render(props, toinsert[toinsert.length - 1]);\n",
       "      element.append(toinsert);\n",
       "      return toinsert\n",
       "    }\n",
       "\n",
       "    /* Handle when an output is cleared or removed */\n",
       "    events.on('clear_output.CodeCell', handleClearOutput);\n",
       "    events.on('delete.Cell', handleClearOutput);\n",
       "\n",
       "    /* Handle when a new output is added */\n",
       "    events.on('output_added.OutputArea', handleAddOutput);\n",
       "\n",
       "    /**\n",
       "     * Register the mime type and append_mime function with output_area\n",
       "     */\n",
       "    OutputArea.prototype.register_mime_type(EXEC_MIME_TYPE, append_mime, {\n",
       "      /* Is output safe? */\n",
       "      safe: true,\n",
       "      /* Index of renderer in `output_area.display_order` */\n",
       "      index: 0\n",
       "    });\n",
       "  }\n",
       "\n",
       "  // register the mime type if in Jupyter Notebook environment and previously unregistered\n",
       "  if (root.Jupyter !== undefined) {\n",
       "    var events = require('base/js/events');\n",
       "    var OutputArea = require('notebook/js/outputarea').OutputArea;\n",
       "\n",
       "    if (OutputArea.prototype.mime_types().indexOf(EXEC_MIME_TYPE) == -1) {\n",
       "      register_renderer(events, OutputArea);\n",
       "    }\n",
       "  }\n",
       "\n",
       "  \n",
       "  if (typeof (root._bokeh_timeout) === \"undefined\" || force === true) {\n",
       "    root._bokeh_timeout = Date.now() + 5000;\n",
       "    root._bokeh_failed_load = false;\n",
       "  }\n",
       "\n",
       "  var NB_LOAD_WARNING = {'data': {'text/html':\n",
       "     \"<div style='background-color: #fdd'>\\n\"+\n",
       "     \"<p>\\n\"+\n",
       "     \"BokehJS does not appear to have successfully loaded. If loading BokehJS from CDN, this \\n\"+\n",
       "     \"may be due to a slow or bad network connection. Possible fixes:\\n\"+\n",
       "     \"</p>\\n\"+\n",
       "     \"<ul>\\n\"+\n",
       "     \"<li>re-rerun `output_notebook()` to attempt to load from CDN again, or</li>\\n\"+\n",
       "     \"<li>use INLINE resources instead, as so:</li>\\n\"+\n",
       "     \"</ul>\\n\"+\n",
       "     \"<code>\\n\"+\n",
       "     \"from bokeh.resources import INLINE\\n\"+\n",
       "     \"output_notebook(resources=INLINE)\\n\"+\n",
       "     \"</code>\\n\"+\n",
       "     \"</div>\"}};\n",
       "\n",
       "  function display_loaded() {\n",
       "    var el = document.getElementById(\"1001\");\n",
       "    if (el != null) {\n",
       "      el.textContent = \"BokehJS is loading...\";\n",
       "    }\n",
       "    if (root.Bokeh !== undefined) {\n",
       "      if (el != null) {\n",
       "        el.textContent = \"BokehJS \" + root.Bokeh.version + \" successfully loaded.\";\n",
       "      }\n",
       "    } else if (Date.now() < root._bokeh_timeout) {\n",
       "      setTimeout(display_loaded, 100)\n",
       "    }\n",
       "  }\n",
       "\n",
       "\n",
       "  function run_callbacks() {\n",
       "    try {\n",
       "      root._bokeh_onload_callbacks.forEach(function(callback) {\n",
       "        if (callback != null)\n",
       "          callback();\n",
       "      });\n",
       "    } finally {\n",
       "      delete root._bokeh_onload_callbacks\n",
       "    }\n",
       "    console.debug(\"Bokeh: all callbacks have finished\");\n",
       "  }\n",
       "\n",
       "  function load_libs(css_urls, js_urls, callback) {\n",
       "    if (css_urls == null) css_urls = [];\n",
       "    if (js_urls == null) js_urls = [];\n",
       "\n",
       "    root._bokeh_onload_callbacks.push(callback);\n",
       "    if (root._bokeh_is_loading > 0) {\n",
       "      console.debug(\"Bokeh: BokehJS is being loaded, scheduling callback at\", now());\n",
       "      return null;\n",
       "    }\n",
       "    if (js_urls == null || js_urls.length === 0) {\n",
       "      run_callbacks();\n",
       "      return null;\n",
       "    }\n",
       "    console.debug(\"Bokeh: BokehJS not loaded, scheduling load and callback at\", now());\n",
       "    root._bokeh_is_loading = css_urls.length + js_urls.length;\n",
       "\n",
       "    function on_load() {\n",
       "      root._bokeh_is_loading--;\n",
       "      if (root._bokeh_is_loading === 0) {\n",
       "        console.debug(\"Bokeh: all BokehJS libraries/stylesheets loaded\");\n",
       "        run_callbacks()\n",
       "      }\n",
       "    }\n",
       "\n",
       "    function on_error() {\n",
       "      console.error(\"failed to load \" + url);\n",
       "    }\n",
       "\n",
       "    for (var i = 0; i < css_urls.length; i++) {\n",
       "      var url = css_urls[i];\n",
       "      const element = document.createElement(\"link\");\n",
       "      element.onload = on_load;\n",
       "      element.onerror = on_error;\n",
       "      element.rel = \"stylesheet\";\n",
       "      element.type = \"text/css\";\n",
       "      element.href = url;\n",
       "      console.debug(\"Bokeh: injecting link tag for BokehJS stylesheet: \", url);\n",
       "      document.body.appendChild(element);\n",
       "    }\n",
       "\n",
       "    for (var i = 0; i < js_urls.length; i++) {\n",
       "      var url = js_urls[i];\n",
       "      var element = document.createElement('script');\n",
       "      element.onload = on_load;\n",
       "      element.onerror = on_error;\n",
       "      element.async = false;\n",
       "      element.src = url;\n",
       "      console.debug(\"Bokeh: injecting script tag for BokehJS library: \", url);\n",
       "      document.head.appendChild(element);\n",
       "    }\n",
       "  };var element = document.getElementById(\"1001\");\n",
       "  if (element == null) {\n",
       "    console.error(\"Bokeh: ERROR: autoload.js configured with elementid '1001' but no matching script tag was found. \")\n",
       "    return false;\n",
       "  }\n",
       "\n",
       "  function inject_raw_css(css) {\n",
       "    const element = document.createElement(\"style\");\n",
       "    element.appendChild(document.createTextNode(css));\n",
       "    document.body.appendChild(element);\n",
       "  }\n",
       "\n",
       "  \n",
       "  var js_urls = [\"https://cdn.pydata.org/bokeh/release/bokeh-1.4.0.min.js\", \"https://cdn.pydata.org/bokeh/release/bokeh-widgets-1.4.0.min.js\", \"https://cdn.pydata.org/bokeh/release/bokeh-tables-1.4.0.min.js\", \"https://cdn.pydata.org/bokeh/release/bokeh-gl-1.4.0.min.js\"];\n",
       "  var css_urls = [];\n",
       "  \n",
       "\n",
       "  var inline_js = [\n",
       "    function(Bokeh) {\n",
       "      Bokeh.set_log_level(\"info\");\n",
       "    },\n",
       "    function(Bokeh) {\n",
       "    \n",
       "    \n",
       "    }\n",
       "  ];\n",
       "\n",
       "  function run_inline_js() {\n",
       "    \n",
       "    if (root.Bokeh !== undefined || force === true) {\n",
       "      \n",
       "    for (var i = 0; i < inline_js.length; i++) {\n",
       "      inline_js[i].call(root, root.Bokeh);\n",
       "    }\n",
       "    if (force === true) {\n",
       "        display_loaded();\n",
       "      }} else if (Date.now() < root._bokeh_timeout) {\n",
       "      setTimeout(run_inline_js, 100);\n",
       "    } else if (!root._bokeh_failed_load) {\n",
       "      console.log(\"Bokeh: BokehJS failed to load within specified timeout.\");\n",
       "      root._bokeh_failed_load = true;\n",
       "    } else if (force !== true) {\n",
       "      var cell = $(document.getElementById(\"1001\")).parents('.cell').data().cell;\n",
       "      cell.output_area.append_execute_result(NB_LOAD_WARNING)\n",
       "    }\n",
       "\n",
       "  }\n",
       "\n",
       "  if (root._bokeh_is_loading === 0) {\n",
       "    console.debug(\"Bokeh: BokehJS loaded, going straight to plotting\");\n",
       "    run_inline_js();\n",
       "  } else {\n",
       "    load_libs(css_urls, js_urls, function() {\n",
       "      console.debug(\"Bokeh: BokehJS plotting callback run at\", now());\n",
       "      run_inline_js();\n",
       "    });\n",
       "  }\n",
       "}(window));"
      ],
      "application/vnd.bokehjs_load.v0+json": "\n(function(root) {\n  function now() {\n    return new Date();\n  }\n\n  var force = true;\n\n  if (typeof root._bokeh_onload_callbacks === \"undefined\" || force === true) {\n    root._bokeh_onload_callbacks = [];\n    root._bokeh_is_loading = undefined;\n  }\n\n  \n\n  \n  if (typeof (root._bokeh_timeout) === \"undefined\" || force === true) {\n    root._bokeh_timeout = Date.now() + 5000;\n    root._bokeh_failed_load = false;\n  }\n\n  var NB_LOAD_WARNING = {'data': {'text/html':\n     \"<div style='background-color: #fdd'>\\n\"+\n     \"<p>\\n\"+\n     \"BokehJS does not appear to have successfully loaded. If loading BokehJS from CDN, this \\n\"+\n     \"may be due to a slow or bad network connection. Possible fixes:\\n\"+\n     \"</p>\\n\"+\n     \"<ul>\\n\"+\n     \"<li>re-rerun `output_notebook()` to attempt to load from CDN again, or</li>\\n\"+\n     \"<li>use INLINE resources instead, as so:</li>\\n\"+\n     \"</ul>\\n\"+\n     \"<code>\\n\"+\n     \"from bokeh.resources import INLINE\\n\"+\n     \"output_notebook(resources=INLINE)\\n\"+\n     \"</code>\\n\"+\n     \"</div>\"}};\n\n  function display_loaded() {\n    var el = document.getElementById(\"1001\");\n    if (el != null) {\n      el.textContent = \"BokehJS is loading...\";\n    }\n    if (root.Bokeh !== undefined) {\n      if (el != null) {\n        el.textContent = \"BokehJS \" + root.Bokeh.version + \" successfully loaded.\";\n      }\n    } else if (Date.now() < root._bokeh_timeout) {\n      setTimeout(display_loaded, 100)\n    }\n  }\n\n\n  function run_callbacks() {\n    try {\n      root._bokeh_onload_callbacks.forEach(function(callback) {\n        if (callback != null)\n          callback();\n      });\n    } finally {\n      delete root._bokeh_onload_callbacks\n    }\n    console.debug(\"Bokeh: all callbacks have finished\");\n  }\n\n  function load_libs(css_urls, js_urls, callback) {\n    if (css_urls == null) css_urls = [];\n    if (js_urls == null) js_urls = [];\n\n    root._bokeh_onload_callbacks.push(callback);\n    if (root._bokeh_is_loading > 0) {\n      console.debug(\"Bokeh: BokehJS is being loaded, scheduling callback at\", now());\n      return null;\n    }\n    if (js_urls == null || js_urls.length === 0) {\n      run_callbacks();\n      return null;\n    }\n    console.debug(\"Bokeh: BokehJS not loaded, scheduling load and callback at\", now());\n    root._bokeh_is_loading = css_urls.length + js_urls.length;\n\n    function on_load() {\n      root._bokeh_is_loading--;\n      if (root._bokeh_is_loading === 0) {\n        console.debug(\"Bokeh: all BokehJS libraries/stylesheets loaded\");\n        run_callbacks()\n      }\n    }\n\n    function on_error() {\n      console.error(\"failed to load \" + url);\n    }\n\n    for (var i = 0; i < css_urls.length; i++) {\n      var url = css_urls[i];\n      const element = document.createElement(\"link\");\n      element.onload = on_load;\n      element.onerror = on_error;\n      element.rel = \"stylesheet\";\n      element.type = \"text/css\";\n      element.href = url;\n      console.debug(\"Bokeh: injecting link tag for BokehJS stylesheet: \", url);\n      document.body.appendChild(element);\n    }\n\n    for (var i = 0; i < js_urls.length; i++) {\n      var url = js_urls[i];\n      var element = document.createElement('script');\n      element.onload = on_load;\n      element.onerror = on_error;\n      element.async = false;\n      element.src = url;\n      console.debug(\"Bokeh: injecting script tag for BokehJS library: \", url);\n      document.head.appendChild(element);\n    }\n  };var element = document.getElementById(\"1001\");\n  if (element == null) {\n    console.error(\"Bokeh: ERROR: autoload.js configured with elementid '1001' but no matching script tag was found. \")\n    return false;\n  }\n\n  function inject_raw_css(css) {\n    const element = document.createElement(\"style\");\n    element.appendChild(document.createTextNode(css));\n    document.body.appendChild(element);\n  }\n\n  \n  var js_urls = [\"https://cdn.pydata.org/bokeh/release/bokeh-1.4.0.min.js\", \"https://cdn.pydata.org/bokeh/release/bokeh-widgets-1.4.0.min.js\", \"https://cdn.pydata.org/bokeh/release/bokeh-tables-1.4.0.min.js\", \"https://cdn.pydata.org/bokeh/release/bokeh-gl-1.4.0.min.js\"];\n  var css_urls = [];\n  \n\n  var inline_js = [\n    function(Bokeh) {\n      Bokeh.set_log_level(\"info\");\n    },\n    function(Bokeh) {\n    \n    \n    }\n  ];\n\n  function run_inline_js() {\n    \n    if (root.Bokeh !== undefined || force === true) {\n      \n    for (var i = 0; i < inline_js.length; i++) {\n      inline_js[i].call(root, root.Bokeh);\n    }\n    if (force === true) {\n        display_loaded();\n      }} else if (Date.now() < root._bokeh_timeout) {\n      setTimeout(run_inline_js, 100);\n    } else if (!root._bokeh_failed_load) {\n      console.log(\"Bokeh: BokehJS failed to load within specified timeout.\");\n      root._bokeh_failed_load = true;\n    } else if (force !== true) {\n      var cell = $(document.getElementById(\"1001\")).parents('.cell').data().cell;\n      cell.output_area.append_execute_result(NB_LOAD_WARNING)\n    }\n\n  }\n\n  if (root._bokeh_is_loading === 0) {\n    console.debug(\"Bokeh: BokehJS loaded, going straight to plotting\");\n    run_inline_js();\n  } else {\n    load_libs(css_urls, js_urls, function() {\n      console.debug(\"Bokeh: BokehJS plotting callback run at\", now());\n      run_inline_js();\n    });\n  }\n}(window));"
     },
     "metadata": {},
     "output_type": "display_data"
    }
   ],
   "source": [
    "import lightgbm as lgb\n",
    "import pandas as pd\n",
    "import numpy as np\n",
    "import warnings\n",
    "warnings.filterwarnings(\"ignore\")\n",
    "\n",
    "from IPython.display import clear_output\n",
    "\n",
    "#Path to my modules\n",
    "import sys\n",
    "from model_eval import *"
   ]
  },
  {
   "cell_type": "markdown",
   "metadata": {},
   "source": [
    "### 01 Creating our Example Target Variables"
   ]
  },
  {
   "cell_type": "code",
   "execution_count": 4,
   "metadata": {},
   "outputs": [
    {
     "name": "stderr",
     "output_type": "stream",
     "text": [
      "BokehDeprecationWarning: 'legend' keyword is deprecated, use explicit 'legend_label', 'legend_field', or 'legend_group' keywords instead\n"
     ]
    },
    {
     "data": {
      "text/html": [
       "\n",
       "\n",
       "\n",
       "\n",
       "\n",
       "\n",
       "  <div class=\"bk-root\" id=\"c89e1470-f6e8-423e-a649-212b96861769\" data-root-id=\"1002\"></div>\n"
      ]
     },
     "metadata": {},
     "output_type": "display_data"
    },
    {
     "data": {
      "application/javascript": [
       "(function(root) {\n",
       "  function embed_document(root) {\n",
       "    \n",
       "  var docs_json = {\"2f5d10c8-f631-4849-b1d4-8fbe8f9af5f7\":{\"roots\":{\"references\":[{\"attributes\":{\"below\":[{\"id\":\"1011\",\"type\":\"LinearAxis\"}],\"center\":[{\"id\":\"1015\",\"type\":\"Grid\"},{\"id\":\"1020\",\"type\":\"Grid\"},{\"id\":\"1046\",\"type\":\"Legend\"}],\"left\":[{\"id\":\"1016\",\"type\":\"LinearAxis\"}],\"plot_height\":400,\"renderers\":[{\"id\":\"1037\",\"type\":\"GlyphRenderer\"}],\"title\":{\"id\":\"1039\",\"type\":\"Title\"},\"toolbar\":{\"id\":\"1027\",\"type\":\"Toolbar\"},\"x_range\":{\"id\":\"1003\",\"type\":\"DataRange1d\"},\"x_scale\":{\"id\":\"1007\",\"type\":\"LinearScale\"},\"y_range\":{\"id\":\"1005\",\"type\":\"DataRange1d\"},\"y_scale\":{\"id\":\"1009\",\"type\":\"LinearScale\"}},\"id\":\"1002\",\"subtype\":\"Figure\",\"type\":\"Plot\"},{\"attributes\":{\"axis_label\":\"y\",\"axis_label_text_font_size\":{\"value\":\"14pt\"},\"formatter\":{\"id\":\"1042\",\"type\":\"BasicTickFormatter\"},\"ticker\":{\"id\":\"1017\",\"type\":\"BasicTicker\"}},\"id\":\"1016\",\"type\":\"LinearAxis\"},{\"attributes\":{},\"id\":\"1024\",\"type\":\"SaveTool\"},{\"attributes\":{},\"id\":\"1025\",\"type\":\"ResetTool\"},{\"attributes\":{},\"id\":\"1007\",\"type\":\"LinearScale\"},{\"attributes\":{},\"id\":\"1026\",\"type\":\"HelpTool\"},{\"attributes\":{\"data_source\":{\"id\":\"1034\",\"type\":\"ColumnDataSource\"},\"glyph\":{\"id\":\"1035\",\"type\":\"Circle\"},\"hover_glyph\":null,\"muted_glyph\":null,\"nonselection_glyph\":{\"id\":\"1036\",\"type\":\"Circle\"},\"selection_glyph\":null,\"view\":{\"id\":\"1038\",\"type\":\"CDSView\"}},\"id\":\"1037\",\"type\":\"GlyphRenderer\"},{\"attributes\":{\"callback\":null},\"id\":\"1005\",\"type\":\"DataRange1d\"},{\"attributes\":{},\"id\":\"1017\",\"type\":\"BasicTicker\"},{\"attributes\":{},\"id\":\"1042\",\"type\":\"BasicTickFormatter\"},{\"attributes\":{\"fill_color\":{\"value\":\"#1f77b4\"},\"line_color\":{\"value\":\"#1f77b4\"},\"line_width\":{\"value\":2},\"x\":{\"field\":\"x\"},\"y\":{\"field\":\"y\"}},\"id\":\"1035\",\"type\":\"Circle\"},{\"attributes\":{\"axis_label\":\"x\",\"axis_label_text_font_size\":{\"value\":\"14pt\"},\"formatter\":{\"id\":\"1044\",\"type\":\"BasicTickFormatter\"},\"ticker\":{\"id\":\"1012\",\"type\":\"BasicTicker\"}},\"id\":\"1011\",\"type\":\"LinearAxis\"},{\"attributes\":{},\"id\":\"1009\",\"type\":\"LinearScale\"},{\"attributes\":{\"items\":[{\"id\":\"1047\",\"type\":\"LegendItem\"}]},\"id\":\"1046\",\"type\":\"Legend\"},{\"attributes\":{\"text\":\"\"},\"id\":\"1039\",\"type\":\"Title\"},{\"attributes\":{\"active_drag\":\"auto\",\"active_inspect\":\"auto\",\"active_multi\":null,\"active_scroll\":\"auto\",\"active_tap\":\"auto\",\"tools\":[{\"id\":\"1021\",\"type\":\"PanTool\"},{\"id\":\"1022\",\"type\":\"WheelZoomTool\"},{\"id\":\"1023\",\"type\":\"BoxZoomTool\"},{\"id\":\"1024\",\"type\":\"SaveTool\"},{\"id\":\"1025\",\"type\":\"ResetTool\"},{\"id\":\"1026\",\"type\":\"HelpTool\"}]},\"id\":\"1027\",\"type\":\"Toolbar\"},{\"attributes\":{\"source\":{\"id\":\"1034\",\"type\":\"ColumnDataSource\"}},\"id\":\"1038\",\"type\":\"CDSView\"},{\"attributes\":{},\"id\":\"1012\",\"type\":\"BasicTicker\"},{\"attributes\":{\"overlay\":{\"id\":\"1045\",\"type\":\"BoxAnnotation\"}},\"id\":\"1023\",\"type\":\"BoxZoomTool\"},{\"attributes\":{\"ticker\":{\"id\":\"1012\",\"type\":\"BasicTicker\"}},\"id\":\"1015\",\"type\":\"Grid\"},{\"attributes\":{\"dimension\":1,\"ticker\":{\"id\":\"1017\",\"type\":\"BasicTicker\"}},\"id\":\"1020\",\"type\":\"Grid\"},{\"attributes\":{},\"id\":\"1044\",\"type\":\"BasicTickFormatter\"},{\"attributes\":{\"bottom_units\":\"screen\",\"fill_alpha\":{\"value\":0.5},\"fill_color\":{\"value\":\"lightgrey\"},\"left_units\":\"screen\",\"level\":\"overlay\",\"line_alpha\":{\"value\":1.0},\"line_color\":{\"value\":\"black\"},\"line_dash\":[4,4],\"line_width\":{\"value\":2},\"render_mode\":\"css\",\"right_units\":\"screen\",\"top_units\":\"screen\"},\"id\":\"1045\",\"type\":\"BoxAnnotation\"},{\"attributes\":{\"label\":{\"value\":\"Actual\"},\"renderers\":[{\"id\":\"1037\",\"type\":\"GlyphRenderer\"}]},\"id\":\"1047\",\"type\":\"LegendItem\"},{\"attributes\":{\"callback\":null,\"data\":{\"x\":{\"__ndarray__\":\"7rlBpPHv/79WtrJsv67/vyxbAzW0Mf2/OonRajQP/b901kHPySj8vzip6fJF6/u/epdvWpjm+r/IIJt0/Nn6v8Dd29IMtPq/JMCUK5c6+r/IYMBpqzT6v46Sha3NGfq/hkzAry0t+L9g8MngNMj3v1i1+SawwPe/OmyBF9BV9b9g4yW7gAf0vxQejbxFwvO/utdW9vHc8r+YzwzQqEPyvxbSehJWefG/urnxXqNR8b888fvoPwbwv9Cev/416++/SMzb5JiV7b/YGglyTvDsvwB3zGBDluy/vN8xx6qT67+k5soHzX7qv/wfhBvEj+i/PABP0V8p578EEfSA8Zrmv1QgpSIKO+a/bK5gAJCD5L+s+z8lmYXjvyCw9IB7eN+/AC+79DqF2r9wQSVK/yXWv4AVY9gl+dS/0AyCwna61L+o8KXa2EPRv9A1z1jyLNC/IBbvFQ1Kzr8AQXjnkBXDvwC0YnEmS72/gLHkSmSFrr8Asj9ZCketvwCIZ62z4nK/wGjVCTxeqD9ADOOHdnO2P+ABUscW8rY/UOEmjCspxj/ww2/Tj6rJP7BhAAsUONA/kM8S0JOz0T8Q1W6kkC/SP0CJZDi3SNM/cAB3eYgV1D84rz6YYQ/YP5i91LzURto/0L7hySnG2z9Qh+wvQeTePyhrAooMX98/yCJxwxp53z8E/Xa1fKbgP3AP1JxcrOA/lFF6X4m64D/8A70w/0DiP2CTJaH23eQ/HFXbIsAD5T94Iywy2T3mP7idXB1kJ+c/UCy63IPA5z/8r0fxkKvoP7iWvwbGnus/iH0Q10NT7T9E2itLHIjtP2AUT+kUpO4/1gyPnHNV8D/Q0Y9X/9LwPyZrFs1SNfE/vMQfbq9u8z9quHTMYtjzP/CqjdwdC/Q/XO+ESH8q9D+G7TyYEqX0Pz6cbDxJzfU/BvAS/HnX9T9ytI2DIvb1P/wr1IbRy/Y/zm6p89j1+D9selct49v5P3wJwcZy+fk/9sCCYohH+j9qTr1UssL8P3jmBvSx2P4/CseQ9epb/z/mfRABpGL/P7iTBqDgpP8/FIvkyZfr/z8=\",\"dtype\":\"float64\",\"shape\":[100]},\"y\":{\"__ndarray__\":\"Cu7gE+3PH8Bp2oIopw4fwNSkfh6JTBjAQz7iDcr2F8Cb/bxDOM4VwEUZ0d6HQBXAhMmi4LACE8D9TbUGAugSwN2xXQFRmBLATHZCpA+fEcCZVsdXI5MRwKjT3B5NXRHARp2h7JmZC8AtYCbkZkUKwGkcL0KELArAPC8dIMz3AsB/BnqgOGP/vy4o0VYgIv6/3P/SkMQ3+r+stOdQr8z3v5Sf+sB+1/S/sENBWLRK9L8M/LEOxxLwv2Dt7nfKwe+/V6rUmVBJ6b/Ib3YwqqrnvxZrM+Nr0Oa/5qpHIOp65L95jouP8Cniv0mjzxCn8Ny/rJbMu6VE2L9a7b/6m4/Wv33gaKMxddW/jL9HPVfc0L9Y79FW2Q/Nv4JSqLwicL6/Yvo32yw3sr+sGnaEfDilv/mkARHRBKK/zPDeRSJlob+w0hA9YRqUv2Oh3DZTiJC/I9inASQji78Uub+4oyZrv8MKf2hKjFi/aAoEXtzDK7/sMSfk9oEovyyuC9zMT3q+qEnXyPFCHD8vUC1uNBpGP5984Kl7mEc/s18FhpxBdT+a+39+9IKAP7sbFXeMqpA/3kLpYJ6qlT8R1OoPeH6XP4aLLUk+A5w/cSTXjFylnz9ruOStCjSrPzG2HtXGt7E/YWqtpTnstD9uvclc6Mm8P0yFz1OSJr4/+pIB4PBxvj/ttgapCQjCP48Ht1QmG8I/Q75bZHtJwj9NOHM9SMLHP9eD1Qgbv9E/ykxEtTIg0j+JYt3aVH3VPwCtimRqPtg/NKw/2fEr2j+LsQ0AW1PdP7FPosayk+Q/CeDzo7ag6D9a4dFSyybpP4FfKEDyF+w/sknzeb0F8T+rl1PYKJryP5f1sjHQ5/M/auj5p/yp/D8dAwT4vYf+P4UVAPY4dP8/1DY7jG4EAEBRtFQjfy8BQLBNXzt4PQRAd3T4HedZBEDcNdJqErAEQA0eZdIvIwdAbUCLF2FfDkDuEyET3uIQQB6BX5QJHRFAAHTGRDK5EUBscBxMczsXQIczyRajqRxAY+vRDYwdHkD/uTeV7jAeQPKf4myp8R5ATwgmYO7CH0A=\",\"dtype\":\"float64\",\"shape\":[100]}},\"selected\":{\"id\":\"1056\",\"type\":\"Selection\"},\"selection_policy\":{\"id\":\"1055\",\"type\":\"UnionRenderers\"}},\"id\":\"1034\",\"type\":\"ColumnDataSource\"},{\"attributes\":{},\"id\":\"1055\",\"type\":\"UnionRenderers\"},{\"attributes\":{},\"id\":\"1021\",\"type\":\"PanTool\"},{\"attributes\":{},\"id\":\"1022\",\"type\":\"WheelZoomTool\"},{\"attributes\":{\"fill_alpha\":{\"value\":0.1},\"fill_color\":{\"value\":\"#1f77b4\"},\"line_alpha\":{\"value\":0.1},\"line_color\":{\"value\":\"#1f77b4\"},\"line_width\":{\"value\":2},\"x\":{\"field\":\"x\"},\"y\":{\"field\":\"y\"}},\"id\":\"1036\",\"type\":\"Circle\"},{\"attributes\":{},\"id\":\"1056\",\"type\":\"Selection\"},{\"attributes\":{\"callback\":null},\"id\":\"1003\",\"type\":\"DataRange1d\"}],\"root_ids\":[\"1002\"]},\"title\":\"Bokeh Application\",\"version\":\"1.4.0\"}};\n",
       "  var render_items = [{\"docid\":\"2f5d10c8-f631-4849-b1d4-8fbe8f9af5f7\",\"roots\":{\"1002\":\"c89e1470-f6e8-423e-a649-212b96861769\"}}];\n",
       "  root.Bokeh.embed.embed_items_notebook(docs_json, render_items);\n",
       "\n",
       "  }\n",
       "  if (root.Bokeh !== undefined) {\n",
       "    embed_document(root);\n",
       "  } else {\n",
       "    var attempts = 0;\n",
       "    var timer = setInterval(function(root) {\n",
       "      if (root.Bokeh !== undefined) {\n",
       "        clearInterval(timer);\n",
       "        embed_document(root);\n",
       "      } else {\n",
       "        attempts++;\n",
       "        if (attempts > 100) {\n",
       "          clearInterval(timer);\n",
       "          console.log(\"Bokeh: ERROR: Unable to run BokehJS code because BokehJS library is missing\");\n",
       "        }\n",
       "      }\n",
       "    }, 10, root)\n",
       "  }\n",
       "})(window);"
      ],
      "application/vnd.bokehjs_exec.v0+json": ""
     },
     "metadata": {
      "application/vnd.bokehjs_exec.v0+json": {
       "id": "1002"
      }
     },
     "output_type": "display_data"
    }
   ],
   "source": [
    "#Generating our dataset\n",
    "x_train = np.random.uniform(low=-2, high=2,size=100)\n",
    "y_train = x_train*x_train*x_train\n",
    "\n",
    "#Creating the dataframe\n",
    "data = pd.DataFrame(data={\"x\":x_train, \"y\":y_train})\n",
    "data.sort_values(by=\"x\",inplace=True)\n",
    "\n",
    "#Plotting\n",
    "p = figure(plot_width=600, plot_height=400, x_axis_label=\"x\",y_axis_label=\"y\")\n",
    "p.xaxis.axis_label_text_font_size = \"14pt\"\n",
    "p.yaxis.axis_label_text_font_size = \"14pt\"\n",
    "p.circle(data.x,data.y, line_width=2, legend=\"Actual\")\n",
    "show(p)"
   ]
  },
  {
   "cell_type": "markdown",
   "metadata": {},
   "source": [
    "### 02 Learning Rate Demonstration"
   ]
  },
  {
   "cell_type": "code",
   "execution_count": 5,
   "metadata": {},
   "outputs": [
    {
     "name": "stderr",
     "output_type": "stream",
     "text": [
      "BokehDeprecationWarning: 'legend' keyword is deprecated, use explicit 'legend_label', 'legend_field', or 'legend_group' keywords instead\n",
      "BokehDeprecationWarning: 'legend' keyword is deprecated, use explicit 'legend_label', 'legend_field', or 'legend_group' keywords instead\n"
     ]
    },
    {
     "data": {
      "text/html": [
       "\n",
       "\n",
       "\n",
       "\n",
       "\n",
       "\n",
       "  <div class=\"bk-root\" id=\"8a6f829f-f8f8-46b8-8115-7c40dbaa0f67\" data-root-id=\"1111\"></div>\n"
      ]
     },
     "metadata": {},
     "output_type": "display_data"
    },
    {
     "data": {
      "application/javascript": [
       "(function(root) {\n",
       "  function embed_document(root) {\n",
       "    \n",
       "  var docs_json = {\"8904938e-7bc1-4300-a471-b697a8b31a93\":{\"roots\":{\"references\":[{\"attributes\":{\"below\":[{\"id\":\"1120\",\"type\":\"LinearAxis\"}],\"center\":[{\"id\":\"1124\",\"type\":\"Grid\"},{\"id\":\"1129\",\"type\":\"Grid\"},{\"id\":\"1155\",\"type\":\"Legend\"}],\"left\":[{\"id\":\"1125\",\"type\":\"LinearAxis\"}],\"plot_height\":400,\"renderers\":[{\"id\":\"1146\",\"type\":\"GlyphRenderer\"},{\"id\":\"1160\",\"type\":\"GlyphRenderer\"}],\"title\":{\"id\":\"1148\",\"type\":\"Title\"},\"toolbar\":{\"id\":\"1136\",\"type\":\"Toolbar\"},\"x_range\":{\"id\":\"1112\",\"type\":\"DataRange1d\"},\"x_scale\":{\"id\":\"1116\",\"type\":\"LinearScale\"},\"y_range\":{\"id\":\"1114\",\"type\":\"DataRange1d\"},\"y_scale\":{\"id\":\"1118\",\"type\":\"LinearScale\"}},\"id\":\"1111\",\"subtype\":\"Figure\",\"type\":\"Plot\"},{\"attributes\":{\"line_alpha\":0.1,\"line_color\":\"#1f77b4\",\"line_width\":2,\"x\":{\"field\":\"x\"},\"y\":{\"field\":\"y\"}},\"id\":\"1145\",\"type\":\"Line\"},{\"attributes\":{},\"id\":\"1191\",\"type\":\"Selection\"},{\"attributes\":{},\"id\":\"1151\",\"type\":\"BasicTickFormatter\"},{\"attributes\":{},\"id\":\"1116\",\"type\":\"LinearScale\"},{\"attributes\":{\"active_drag\":\"auto\",\"active_inspect\":\"auto\",\"active_multi\":null,\"active_scroll\":\"auto\",\"active_tap\":\"auto\",\"tools\":[{\"id\":\"1130\",\"type\":\"PanTool\"},{\"id\":\"1131\",\"type\":\"WheelZoomTool\"},{\"id\":\"1132\",\"type\":\"BoxZoomTool\"},{\"id\":\"1133\",\"type\":\"SaveTool\"},{\"id\":\"1134\",\"type\":\"ResetTool\"},{\"id\":\"1135\",\"type\":\"HelpTool\"}]},\"id\":\"1136\",\"type\":\"Toolbar\"},{\"attributes\":{\"line_color\":\"#1f77b4\",\"line_width\":2,\"x\":{\"field\":\"x\"},\"y\":{\"field\":\"y\"}},\"id\":\"1144\",\"type\":\"Line\"},{\"attributes\":{\"dimension\":1,\"ticker\":{\"id\":\"1126\",\"type\":\"BasicTicker\"}},\"id\":\"1129\",\"type\":\"Grid\"},{\"attributes\":{},\"id\":\"1126\",\"type\":\"BasicTicker\"},{\"attributes\":{},\"id\":\"1131\",\"type\":\"WheelZoomTool\"},{\"attributes\":{\"text\":\"\"},\"id\":\"1148\",\"type\":\"Title\"},{\"attributes\":{\"overlay\":{\"id\":\"1154\",\"type\":\"BoxAnnotation\"}},\"id\":\"1132\",\"type\":\"BoxZoomTool\"},{\"attributes\":{\"callback\":null,\"data\":{\"x\":{\"__ndarray__\":\"7rlBpPHv/79WtrJsv67/vyxbAzW0Mf2/OonRajQP/b901kHPySj8vzip6fJF6/u/epdvWpjm+r/IIJt0/Nn6v8Dd29IMtPq/JMCUK5c6+r/IYMBpqzT6v46Sha3NGfq/hkzAry0t+L9g8MngNMj3v1i1+SawwPe/OmyBF9BV9b9g4yW7gAf0vxQejbxFwvO/utdW9vHc8r+YzwzQqEPyvxbSehJWefG/urnxXqNR8b888fvoPwbwv9Cev/416++/SMzb5JiV7b/YGglyTvDsvwB3zGBDluy/vN8xx6qT67+k5soHzX7qv/wfhBvEj+i/PABP0V8p578EEfSA8Zrmv1QgpSIKO+a/bK5gAJCD5L+s+z8lmYXjvyCw9IB7eN+/AC+79DqF2r9wQSVK/yXWv4AVY9gl+dS/0AyCwna61L+o8KXa2EPRv9A1z1jyLNC/IBbvFQ1Kzr8AQXjnkBXDvwC0YnEmS72/gLHkSmSFrr8Asj9ZCketvwCIZ62z4nK/wGjVCTxeqD9ADOOHdnO2P+ABUscW8rY/UOEmjCspxj/ww2/Tj6rJP7BhAAsUONA/kM8S0JOz0T8Q1W6kkC/SP0CJZDi3SNM/cAB3eYgV1D84rz6YYQ/YP5i91LzURto/0L7hySnG2z9Qh+wvQeTePyhrAooMX98/yCJxwxp53z8E/Xa1fKbgP3AP1JxcrOA/lFF6X4m64D/8A70w/0DiP2CTJaH23eQ/HFXbIsAD5T94Iywy2T3mP7idXB1kJ+c/UCy63IPA5z/8r0fxkKvoP7iWvwbGnus/iH0Q10NT7T9E2itLHIjtP2AUT+kUpO4/1gyPnHNV8D/Q0Y9X/9LwPyZrFs1SNfE/vMQfbq9u8z9quHTMYtjzP/CqjdwdC/Q/XO+ESH8q9D+G7TyYEqX0Pz6cbDxJzfU/BvAS/HnX9T9ytI2DIvb1P/wr1IbRy/Y/zm6p89j1+D9selct49v5P3wJwcZy+fk/9sCCYohH+j9qTr1UssL8P3jmBvSx2P4/CseQ9epb/z/mfRABpGL/P7iTBqDgpP8/FIvkyZfr/z8=\",\"dtype\":\"float64\",\"shape\":[100]},\"y\":{\"__ndarray__\":\"mgz855V/FMCaDPznlX8UwJoM/OeVfxTAmgz855V/FMCaDPznlX8UwJoM/OeVfxTAmgz855V/FMCaDPznlX8UwJoM/OeVfxTAmgz855V/FMCaDPznlX8UwJoM/OeVfxTAmgz855V/FMCaDPznlX8UwJoM/OeVfxTAmgz855V/FMCaDPznlX8UwJoM/OeVfxTAci8pdLEL2D9yLyl0sQvYP3IvKXSxC9g/ci8pdLEL2D9yLyl0sQvYP3IvKXSxC9g/ci8pdLEL2D9yLyl0sQvYP3IvKXSxC9g/ci8pdLEL2D9yLyl0sQvYP3IvKXSxC9g/ci8pdLEL2D9yLyl0sQvYP3IvKXSxC9g/ci8pdLEL2D9yLyl0sQvYP3IvKXSxC9g/ci8pdLEL2D9yLyl0sQvYP3IvKXSxC9g/ci8pdLEL2D9yLyl0sQvYP3IvKXSxC9g/ci8pdLEL2D9yLyl0sQvYP3IvKXSxC9g/ci8pdLEL2D9yLyl0sQvYP3IvKXSxC9g/ci8pdLEL2D9yLyl0sQvYP3IvKXSxC9g/ci8pdLEL2D9yLyl0sQvYP3IvKXSxC9g/ci8pdLEL2D9yLyl0sQvYP3IvKXSxC9g/ci8pdLEL2D9yLyl0sQvYP3IvKXSxC9g/ci8pdLEL2D9yLyl0sQvYP3IvKXSxC9g/ci8pdLEL2D9yLyl0sQvYP3IvKXSxC9g/ci8pdLEL2D9yLyl0sQvYP3IvKXSxC9g/ci8pdLEL2D9yLyl0sQvYP3IvKXSxC9g/ci8pdLEL2D9yLyl0sQvYP3IvKXSxC9g/ci8pdLEL2D9yLyl0sQvYP3IvKXSxC9g/ci8pdLEL2D9yLyl0sQvYP3IvKXSxC9g/ci8pdLEL2D9yLyl0sQvYP3IvKXSxC9g/ci8pdLEL2D9yLyl0sQvYP3IvKXSxC9g/ci8pdLEL2D9yLyl0sQvYP3IvKXSxC9g/nOI8vn4uGECc4jy+fi4YQJziPL5+LhhAnOI8vn4uGECc4jy+fi4YQJziPL5+LhhAnOI8vn4uGECc4jy+fi4YQJziPL5+LhhAnOI8vn4uGEA=\",\"dtype\":\"float64\",\"shape\":[100]}},\"selected\":{\"id\":\"1191\",\"type\":\"Selection\"},\"selection_policy\":{\"id\":\"1190\",\"type\":\"UnionRenderers\"}},\"id\":\"1157\",\"type\":\"ColumnDataSource\"},{\"attributes\":{},\"id\":\"1133\",\"type\":\"SaveTool\"},{\"attributes\":{\"callback\":null},\"id\":\"1112\",\"type\":\"DataRange1d\"},{\"attributes\":{\"callback\":null,\"data\":{\"x\":{\"__ndarray__\":\"7rlBpPHv/79WtrJsv67/vyxbAzW0Mf2/OonRajQP/b901kHPySj8vzip6fJF6/u/epdvWpjm+r/IIJt0/Nn6v8Dd29IMtPq/JMCUK5c6+r/IYMBpqzT6v46Sha3NGfq/hkzAry0t+L9g8MngNMj3v1i1+SawwPe/OmyBF9BV9b9g4yW7gAf0vxQejbxFwvO/utdW9vHc8r+YzwzQqEPyvxbSehJWefG/urnxXqNR8b888fvoPwbwv9Cev/416++/SMzb5JiV7b/YGglyTvDsvwB3zGBDluy/vN8xx6qT67+k5soHzX7qv/wfhBvEj+i/PABP0V8p578EEfSA8Zrmv1QgpSIKO+a/bK5gAJCD5L+s+z8lmYXjvyCw9IB7eN+/AC+79DqF2r9wQSVK/yXWv4AVY9gl+dS/0AyCwna61L+o8KXa2EPRv9A1z1jyLNC/IBbvFQ1Kzr8AQXjnkBXDvwC0YnEmS72/gLHkSmSFrr8Asj9ZCketvwCIZ62z4nK/wGjVCTxeqD9ADOOHdnO2P+ABUscW8rY/UOEmjCspxj/ww2/Tj6rJP7BhAAsUONA/kM8S0JOz0T8Q1W6kkC/SP0CJZDi3SNM/cAB3eYgV1D84rz6YYQ/YP5i91LzURto/0L7hySnG2z9Qh+wvQeTePyhrAooMX98/yCJxwxp53z8E/Xa1fKbgP3AP1JxcrOA/lFF6X4m64D/8A70w/0DiP2CTJaH23eQ/HFXbIsAD5T94Iywy2T3mP7idXB1kJ+c/UCy63IPA5z/8r0fxkKvoP7iWvwbGnus/iH0Q10NT7T9E2itLHIjtP2AUT+kUpO4/1gyPnHNV8D/Q0Y9X/9LwPyZrFs1SNfE/vMQfbq9u8z9quHTMYtjzP/CqjdwdC/Q/XO+ESH8q9D+G7TyYEqX0Pz6cbDxJzfU/BvAS/HnX9T9ytI2DIvb1P/wr1IbRy/Y/zm6p89j1+D9selct49v5P3wJwcZy+fk/9sCCYohH+j9qTr1UssL8P3jmBvSx2P4/CseQ9epb/z/mfRABpGL/P7iTBqDgpP8/FIvkyZfr/z8=\",\"dtype\":\"float64\",\"shape\":[100]},\"y\":{\"__ndarray__\":\"Cu7gE+3PH8Bp2oIopw4fwNSkfh6JTBjAQz7iDcr2F8Cb/bxDOM4VwEUZ0d6HQBXAhMmi4LACE8D9TbUGAugSwN2xXQFRmBLATHZCpA+fEcCZVsdXI5MRwKjT3B5NXRHARp2h7JmZC8AtYCbkZkUKwGkcL0KELArAPC8dIMz3AsB/BnqgOGP/vy4o0VYgIv6/3P/SkMQ3+r+stOdQr8z3v5Sf+sB+1/S/sENBWLRK9L8M/LEOxxLwv2Dt7nfKwe+/V6rUmVBJ6b/Ib3YwqqrnvxZrM+Nr0Oa/5qpHIOp65L95jouP8Cniv0mjzxCn8Ny/rJbMu6VE2L9a7b/6m4/Wv33gaKMxddW/jL9HPVfc0L9Y79FW2Q/Nv4JSqLwicL6/Yvo32yw3sr+sGnaEfDilv/mkARHRBKK/zPDeRSJlob+w0hA9YRqUv2Oh3DZTiJC/I9inASQji78Uub+4oyZrv8MKf2hKjFi/aAoEXtzDK7/sMSfk9oEovyyuC9zMT3q+qEnXyPFCHD8vUC1uNBpGP5984Kl7mEc/s18FhpxBdT+a+39+9IKAP7sbFXeMqpA/3kLpYJ6qlT8R1OoPeH6XP4aLLUk+A5w/cSTXjFylnz9ruOStCjSrPzG2HtXGt7E/YWqtpTnstD9uvclc6Mm8P0yFz1OSJr4/+pIB4PBxvj/ttgapCQjCP48Ht1QmG8I/Q75bZHtJwj9NOHM9SMLHP9eD1Qgbv9E/ykxEtTIg0j+JYt3aVH3VPwCtimRqPtg/NKw/2fEr2j+LsQ0AW1PdP7FPosayk+Q/CeDzo7ag6D9a4dFSyybpP4FfKEDyF+w/sknzeb0F8T+rl1PYKJryP5f1sjHQ5/M/auj5p/yp/D8dAwT4vYf+P4UVAPY4dP8/1DY7jG4EAEBRtFQjfy8BQLBNXzt4PQRAd3T4HedZBEDcNdJqErAEQA0eZdIvIwdAbUCLF2FfDkDuEyET3uIQQB6BX5QJHRFAAHTGRDK5EUBscBxMczsXQIczyRajqRxAY+vRDYwdHkD/uTeV7jAeQPKf4myp8R5ATwgmYO7CH0A=\",\"dtype\":\"float64\",\"shape\":[100]}},\"selected\":{\"id\":\"1170\",\"type\":\"Selection\"},\"selection_policy\":{\"id\":\"1169\",\"type\":\"UnionRenderers\"}},\"id\":\"1143\",\"type\":\"ColumnDataSource\"},{\"attributes\":{\"line_alpha\":0.1,\"line_color\":\"#1f77b4\",\"line_width\":2,\"x\":{\"field\":\"x\"},\"y\":{\"field\":\"y\"}},\"id\":\"1159\",\"type\":\"Line\"},{\"attributes\":{\"line_color\":\"red\",\"line_width\":2,\"x\":{\"field\":\"x\"},\"y\":{\"field\":\"y\"}},\"id\":\"1158\",\"type\":\"Line\"},{\"attributes\":{},\"id\":\"1134\",\"type\":\"ResetTool\"},{\"attributes\":{\"data_source\":{\"id\":\"1157\",\"type\":\"ColumnDataSource\"},\"glyph\":{\"id\":\"1158\",\"type\":\"Line\"},\"hover_glyph\":null,\"muted_glyph\":null,\"nonselection_glyph\":{\"id\":\"1159\",\"type\":\"Line\"},\"selection_glyph\":null,\"view\":{\"id\":\"1161\",\"type\":\"CDSView\"}},\"id\":\"1160\",\"type\":\"GlyphRenderer\"},{\"attributes\":{\"items\":[{\"id\":\"1156\",\"type\":\"LegendItem\"},{\"id\":\"1171\",\"type\":\"LegendItem\"}]},\"id\":\"1155\",\"type\":\"Legend\"},{\"attributes\":{\"axis_label\":\"x\",\"axis_label_text_font_size\":{\"value\":\"14pt\"},\"formatter\":{\"id\":\"1153\",\"type\":\"BasicTickFormatter\"},\"ticker\":{\"id\":\"1121\",\"type\":\"BasicTicker\"}},\"id\":\"1120\",\"type\":\"LinearAxis\"},{\"attributes\":{},\"id\":\"1153\",\"type\":\"BasicTickFormatter\"},{\"attributes\":{\"bottom_units\":\"screen\",\"fill_alpha\":{\"value\":0.5},\"fill_color\":{\"value\":\"lightgrey\"},\"left_units\":\"screen\",\"level\":\"overlay\",\"line_alpha\":{\"value\":1.0},\"line_color\":{\"value\":\"black\"},\"line_dash\":[4,4],\"line_width\":{\"value\":2},\"render_mode\":\"css\",\"right_units\":\"screen\",\"top_units\":\"screen\"},\"id\":\"1154\",\"type\":\"BoxAnnotation\"},{\"attributes\":{},\"id\":\"1135\",\"type\":\"HelpTool\"},{\"attributes\":{\"axis_label\":\"y\",\"axis_label_text_font_size\":{\"value\":\"14pt\"},\"formatter\":{\"id\":\"1151\",\"type\":\"BasicTickFormatter\"},\"ticker\":{\"id\":\"1126\",\"type\":\"BasicTicker\"}},\"id\":\"1125\",\"type\":\"LinearAxis\"},{\"attributes\":{\"source\":{\"id\":\"1157\",\"type\":\"ColumnDataSource\"}},\"id\":\"1161\",\"type\":\"CDSView\"},{\"attributes\":{},\"id\":\"1169\",\"type\":\"UnionRenderers\"},{\"attributes\":{\"label\":{\"value\":\"Actual\"},\"renderers\":[{\"id\":\"1146\",\"type\":\"GlyphRenderer\"}]},\"id\":\"1156\",\"type\":\"LegendItem\"},{\"attributes\":{\"label\":{\"value\":\"Prediction\"},\"renderers\":[{\"id\":\"1160\",\"type\":\"GlyphRenderer\"}]},\"id\":\"1171\",\"type\":\"LegendItem\"},{\"attributes\":{},\"id\":\"1170\",\"type\":\"Selection\"},{\"attributes\":{},\"id\":\"1130\",\"type\":\"PanTool\"},{\"attributes\":{},\"id\":\"1118\",\"type\":\"LinearScale\"},{\"attributes\":{\"data_source\":{\"id\":\"1143\",\"type\":\"ColumnDataSource\"},\"glyph\":{\"id\":\"1144\",\"type\":\"Line\"},\"hover_glyph\":null,\"muted_glyph\":null,\"nonselection_glyph\":{\"id\":\"1145\",\"type\":\"Line\"},\"selection_glyph\":null,\"view\":{\"id\":\"1147\",\"type\":\"CDSView\"}},\"id\":\"1146\",\"type\":\"GlyphRenderer\"},{\"attributes\":{},\"id\":\"1190\",\"type\":\"UnionRenderers\"},{\"attributes\":{},\"id\":\"1121\",\"type\":\"BasicTicker\"},{\"attributes\":{\"source\":{\"id\":\"1143\",\"type\":\"ColumnDataSource\"}},\"id\":\"1147\",\"type\":\"CDSView\"},{\"attributes\":{\"ticker\":{\"id\":\"1121\",\"type\":\"BasicTicker\"}},\"id\":\"1124\",\"type\":\"Grid\"},{\"attributes\":{\"callback\":null},\"id\":\"1114\",\"type\":\"DataRange1d\"}],\"root_ids\":[\"1111\"]},\"title\":\"Bokeh Application\",\"version\":\"1.4.0\"}};\n",
       "  var render_items = [{\"docid\":\"8904938e-7bc1-4300-a471-b697a8b31a93\",\"roots\":{\"1111\":\"8a6f829f-f8f8-46b8-8115-7c40dbaa0f67\"}}];\n",
       "  root.Bokeh.embed.embed_items_notebook(docs_json, render_items);\n",
       "\n",
       "  }\n",
       "  if (root.Bokeh !== undefined) {\n",
       "    embed_document(root);\n",
       "  } else {\n",
       "    var attempts = 0;\n",
       "    var timer = setInterval(function(root) {\n",
       "      if (root.Bokeh !== undefined) {\n",
       "        clearInterval(timer);\n",
       "        embed_document(root);\n",
       "      } else {\n",
       "        attempts++;\n",
       "        if (attempts > 100) {\n",
       "          clearInterval(timer);\n",
       "          console.log(\"Bokeh: ERROR: Unable to run BokehJS code because BokehJS library is missing\");\n",
       "        }\n",
       "      }\n",
       "    }, 10, root)\n",
       "  }\n",
       "})(window);"
      ],
      "application/vnd.bokehjs_exec.v0+json": ""
     },
     "metadata": {
      "application/vnd.bokehjs_exec.v0+json": {
       "id": "1111"
      }
     },
     "output_type": "display_data"
    }
   ],
   "source": [
    "\"\"\"\n",
    "Fitting our Model\n",
    "\"\"\"\n",
    "\n",
    "#LightGBM requires a special dataset configuration\n",
    "lgb_data = lgb.Dataset(data = pd.DataFrame(data.x), label = pd.DataFrame(data.y))\n",
    "\n",
    "\n",
    "#Fitting our model\n",
    "params = {\n",
    "          \"learning_rate\":1,\n",
    "          \"max_depth\":1,\n",
    "          \"min_data_in_leaf\":5\n",
    "         }\n",
    "\n",
    "\n",
    "\"\"\"\n",
    "Plotting Actual vs Predicted\n",
    "\"\"\"\n",
    "\n",
    "lr_model = lgb.train(params, lgb_data, num_boost_round=2)\n",
    "\n",
    "data[\"prediction\"] = lr_model.predict(pd.DataFrame(data.x))\n",
    "\"\"\"\n",
    "Plotting Actual vs Predicted\n",
    "\"\"\"\n",
    "clear_output(wait=True)\n",
    "#Plotting\n",
    "p = figure(plot_width=600, plot_height=400, x_axis_label=\"x\",y_axis_label=\"y\")\n",
    "p.xaxis.axis_label_text_font_size = \"14pt\"\n",
    "p.yaxis.axis_label_text_font_size = \"14pt\"\n",
    "p.line(data.x,data.y, line_width=2, legend=\"Actual\")\n",
    "p.line(data.x,data.prediction, line_width=2, legend=\"Prediction\", color=\"red\")\n",
    "show(p)"
   ]
  },
  {
   "cell_type": "markdown",
   "metadata": {},
   "source": [
    "### 03 Depth Demonstration"
   ]
  },
  {
   "cell_type": "code",
   "execution_count": 6,
   "metadata": {},
   "outputs": [
    {
     "name": "stderr",
     "output_type": "stream",
     "text": [
      "BokehDeprecationWarning: 'legend' keyword is deprecated, use explicit 'legend_label', 'legend_field', or 'legend_group' keywords instead\n"
     ]
    },
    {
     "data": {
      "text/html": [
       "\n",
       "\n",
       "\n",
       "\n",
       "\n",
       "\n",
       "  <div class=\"bk-root\" id=\"fa9f01dd-e33d-4fb2-ae4f-f658bc7cbe8e\" data-root-id=\"1258\"></div>\n"
      ]
     },
     "metadata": {},
     "output_type": "display_data"
    },
    {
     "data": {
      "application/javascript": [
       "(function(root) {\n",
       "  function embed_document(root) {\n",
       "    \n",
       "  var docs_json = {\"7c0648a5-00b0-41ce-b47b-b1a112c13159\":{\"roots\":{\"references\":[{\"attributes\":{\"below\":[{\"id\":\"1267\",\"type\":\"LinearAxis\"}],\"center\":[{\"id\":\"1271\",\"type\":\"Grid\"},{\"id\":\"1276\",\"type\":\"Grid\"},{\"id\":\"1302\",\"type\":\"Legend\"}],\"left\":[{\"id\":\"1272\",\"type\":\"LinearAxis\"}],\"plot_height\":400,\"renderers\":[{\"id\":\"1293\",\"type\":\"GlyphRenderer\"}],\"title\":{\"id\":\"1295\",\"type\":\"Title\"},\"toolbar\":{\"id\":\"1283\",\"type\":\"Toolbar\"},\"x_range\":{\"id\":\"1259\",\"type\":\"DataRange1d\"},\"x_scale\":{\"id\":\"1263\",\"type\":\"LinearScale\"},\"y_range\":{\"id\":\"1261\",\"type\":\"DataRange1d\"},\"y_scale\":{\"id\":\"1265\",\"type\":\"LinearScale\"}},\"id\":\"1258\",\"subtype\":\"Figure\",\"type\":\"Plot\"},{\"attributes\":{\"callback\":null},\"id\":\"1261\",\"type\":\"DataRange1d\"},{\"attributes\":{},\"id\":\"1263\",\"type\":\"LinearScale\"},{\"attributes\":{\"active_drag\":\"auto\",\"active_inspect\":\"auto\",\"active_multi\":null,\"active_scroll\":\"auto\",\"active_tap\":\"auto\",\"tools\":[{\"id\":\"1277\",\"type\":\"PanTool\"},{\"id\":\"1278\",\"type\":\"WheelZoomTool\"},{\"id\":\"1279\",\"type\":\"BoxZoomTool\"},{\"id\":\"1280\",\"type\":\"SaveTool\"},{\"id\":\"1281\",\"type\":\"ResetTool\"},{\"id\":\"1282\",\"type\":\"HelpTool\"}]},\"id\":\"1283\",\"type\":\"Toolbar\"},{\"attributes\":{\"source\":{\"id\":\"1290\",\"type\":\"ColumnDataSource\"}},\"id\":\"1294\",\"type\":\"CDSView\"},{\"attributes\":{\"callback\":null,\"data\":{\"x\":{\"__ndarray__\":\"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\",\"dtype\":\"float64\",\"shape\":[1000]},\"y\":[0,0,0,0,0,0,0,0,0,0,0,0,0,0,0,0,0,0,0,0,0,0,0,0,0,0,0,0,0,0,0,0,0,0,0,0,0,0,0,0,0,0,0,0,0,0,0,0,0,0,0,0,0,0,0,0,0,0,0,0,0,0,0,0,0,0,0,0,0,0,0,0,0,0,0,0,0,0,0,0,0,0,0,0,0,0,0,0,0,0,0,0,0,0,0,0,0,0,0,0,0,0,0,0,0,0,0,0,0,0,0,0,0,0,0,0,0,0,0,0,0,0,0,0,0,0,0,0,0,0,0,0,0,0,0,0,0,0,0,0,0,0,0,0,0,0,0,0,0,0,0,0,0,0,0,0,0,0,0,0,0,0,0,0,0,0,0,0,0,0,0,0,0,0,0,0,0,0,0,0,0,0,0,0,0,0,0,0,0,0,0,0,0,0,0,0,0,0,0,0,0,0,0,0,0,0,0,0,0,0,0,0,0,0,0,0,0,0,0,0,0,0,0,0,0,0,0,0,0,0,0,0,0,0,0,0,0,0,0,0,0,0,0,0,0,0,0,0,0,0,0,0,0,0,0,0,0,0,0,0,0,0,0,0,0,0,0,0,0,0,0,0,0,0,0,0,0,0,0,0,0,0,0,0,0,0,0,0,0,0,0,0,0,0,0,0,0,0,0,0,0,0,0,0,0,0,0,0,0,0,0,0,0,0,0,0,0,0,0,0,0,0,0,0,0,0,0,0,1,1,1,1,1,1,1,1,1,1,1,1,1,1,1,1,1,1,1,1,1,1,1,1,1,1,1,1,1,1,1,1,1,1,1,1,1,1,1,1,1,1,1,1,1,1,1,1,1,1,1,1,1,1,1,1,1,1,1,1,1,1,1,1,1,1,1,1,1,1,1,1,1,1,1,1,1,1,1,1,1,1,1,1,1,1,1,1,1,1,1,1,1,1,1,1,1,1,1,1,1,1,1,1,1,1,1,1,1,1,1,1,1,1,1,1,1,1,1,1,1,1,1,1,1,1,1,1,1,1,1,1,1,1,1,1,1,1,1,1,1,1,1,1,1,1,1,1,1,1,1,1,1,1,1,1,1,1,1,1,1,1,1,1,1,1,1,1,1,1,1,1,1,1,1,1,1,1,1,1,1,1,1,1,1,1,1,1,1,1,1,1,1,1,1,1,1,1,1,1,1,1,1,1,1,1,1,1,1,1,1,1,1,1,1,1,1,1,1,1,1,1,1,1,1,1,1,1,1,1,1,1,1,1,1,1,1,1,1,1,1,1,1,1,1,1,1,1,1,1,1,1,1,1,1,1,1,1,1,1,1,1,1,1,1,1,1,1,1,1,1,1,1,1,1,1,1,1,1,1,1,1,1,1,1,1,1,1,1,1,1,1,1,1,1,1,1,1,1,1,1,1,1,1,1,1,1,1,1,1,1,1,1,1,1,1,1,1,1,1,1,1,1,1,1,1,1,1,1,1,1,1,1,1,1,1,1,1,1,1,1,1,1,1,1,1,1,1,1,0,0,0,0,0,0,0,0,0,0,0,0,0,0,0,0,0,0,0,0,0,0,0,0,0,0,0,0,0,0,0,0,0,0,0,0,0,0,0,0,0,0,0,0,0,0,0,0,0,0,0,0,0,0,0,0,0,0,0,0,0,0,0,0,0,0,0,0,0,0,0,0,0,0,0,0,0,0,0,0,0,0,0,0,0,0,0,0,0,0,0,0,0,0,0,0,0,0,0,0,0,0,0,0,0,0,0,0,0,0,0,0,0,0,0,0,0,0,0,0,0,0,0,0,0,0,0,0,0,0,0,0,0,0,0,0,0,0,0,0,0,0,0,0,0,0,0,0,0,0,0,0,0,0,0,0,0,0,0,0,0,0,0,0,0,0,0,0,0,0,0,0,0,0,0,0,0,0,0,0,0,0,0,0,0,0,0,0,0,0,0,0,0,0,0,0,0,0,0,0,0,0,0,0,0,0,0,0,0,0,0,0,0,0,0,0,0,0,0,0,0,0,0,0,0,0,0,0,0,0,0,0,0,0,0,0,0,0,0,0,0,0,0,0,0,0,0,0,0,0,0,0,0,0,0,0,0,0,0,0,0,0,0,0,0,0,0,0,0,0,0,0,0,0,0,0,0,0,0,0,0,0,0,0,0,0,0,0,0,0,0,0,0,0,0,0,0,0,0,0,0,0,0,0,0,0,0,0,0,0,0,0,0,0,0,0,0,0,0,0,0,0,0]},\"selected\":{\"id\":\"1332\",\"type\":\"Selection\"},\"selection_policy\":{\"id\":\"1331\",\"type\":\"UnionRenderers\"}},\"id\":\"1290\",\"type\":\"ColumnDataSource\"},{\"attributes\":{\"items\":[{\"id\":\"1303\",\"type\":\"LegendItem\"}]},\"id\":\"1302\",\"type\":\"Legend\"},{\"attributes\":{},\"id\":\"1298\",\"type\":\"BasicTickFormatter\"},{\"attributes\":{\"text\":\"\"},\"id\":\"1295\",\"type\":\"Title\"},{\"attributes\":{\"callback\":null},\"id\":\"1259\",\"type\":\"DataRange1d\"},{\"attributes\":{},\"id\":\"1273\",\"type\":\"BasicTicker\"},{\"attributes\":{},\"id\":\"1265\",\"type\":\"LinearScale\"},{\"attributes\":{},\"id\":\"1280\",\"type\":\"SaveTool\"},{\"attributes\":{\"axis_label\":\"x\",\"axis_label_text_font_size\":{\"value\":\"14pt\"},\"formatter\":{\"id\":\"1300\",\"type\":\"BasicTickFormatter\"},\"ticker\":{\"id\":\"1268\",\"type\":\"BasicTicker\"}},\"id\":\"1267\",\"type\":\"LinearAxis\"},{\"attributes\":{\"data_source\":{\"id\":\"1290\",\"type\":\"ColumnDataSource\"},\"glyph\":{\"id\":\"1291\",\"type\":\"Line\"},\"hover_glyph\":null,\"muted_glyph\":null,\"nonselection_glyph\":{\"id\":\"1292\",\"type\":\"Line\"},\"selection_glyph\":null,\"view\":{\"id\":\"1294\",\"type\":\"CDSView\"}},\"id\":\"1293\",\"type\":\"GlyphRenderer\"},{\"attributes\":{},\"id\":\"1332\",\"type\":\"Selection\"},{\"attributes\":{\"line_alpha\":0.1,\"line_color\":\"#1f77b4\",\"line_width\":2,\"x\":{\"field\":\"x\"},\"y\":{\"field\":\"y\"}},\"id\":\"1292\",\"type\":\"Line\"},{\"attributes\":{},\"id\":\"1300\",\"type\":\"BasicTickFormatter\"},{\"attributes\":{},\"id\":\"1281\",\"type\":\"ResetTool\"},{\"attributes\":{},\"id\":\"1282\",\"type\":\"HelpTool\"},{\"attributes\":{\"ticker\":{\"id\":\"1268\",\"type\":\"BasicTicker\"}},\"id\":\"1271\",\"type\":\"Grid\"},{\"attributes\":{},\"id\":\"1331\",\"type\":\"UnionRenderers\"},{\"attributes\":{\"dimension\":1,\"ticker\":{\"id\":\"1273\",\"type\":\"BasicTicker\"}},\"id\":\"1276\",\"type\":\"Grid\"},{\"attributes\":{\"overlay\":{\"id\":\"1301\",\"type\":\"BoxAnnotation\"}},\"id\":\"1279\",\"type\":\"BoxZoomTool\"},{\"attributes\":{\"axis_label\":\"y\",\"axis_label_text_font_size\":{\"value\":\"14pt\"},\"formatter\":{\"id\":\"1298\",\"type\":\"BasicTickFormatter\"},\"ticker\":{\"id\":\"1273\",\"type\":\"BasicTicker\"}},\"id\":\"1272\",\"type\":\"LinearAxis\"},{\"attributes\":{},\"id\":\"1268\",\"type\":\"BasicTicker\"},{\"attributes\":{\"label\":{\"value\":\"Actual\"},\"renderers\":[{\"id\":\"1293\",\"type\":\"GlyphRenderer\"}]},\"id\":\"1303\",\"type\":\"LegendItem\"},{\"attributes\":{},\"id\":\"1278\",\"type\":\"WheelZoomTool\"},{\"attributes\":{\"line_color\":\"#1f77b4\",\"line_width\":2,\"x\":{\"field\":\"x\"},\"y\":{\"field\":\"y\"}},\"id\":\"1291\",\"type\":\"Line\"},{\"attributes\":{},\"id\":\"1277\",\"type\":\"PanTool\"},{\"attributes\":{\"bottom_units\":\"screen\",\"fill_alpha\":{\"value\":0.5},\"fill_color\":{\"value\":\"lightgrey\"},\"left_units\":\"screen\",\"level\":\"overlay\",\"line_alpha\":{\"value\":1.0},\"line_color\":{\"value\":\"black\"},\"line_dash\":[4,4],\"line_width\":{\"value\":2},\"render_mode\":\"css\",\"right_units\":\"screen\",\"top_units\":\"screen\"},\"id\":\"1301\",\"type\":\"BoxAnnotation\"}],\"root_ids\":[\"1258\"]},\"title\":\"Bokeh Application\",\"version\":\"1.4.0\"}};\n",
       "  var render_items = [{\"docid\":\"7c0648a5-00b0-41ce-b47b-b1a112c13159\",\"roots\":{\"1258\":\"fa9f01dd-e33d-4fb2-ae4f-f658bc7cbe8e\"}}];\n",
       "  root.Bokeh.embed.embed_items_notebook(docs_json, render_items);\n",
       "\n",
       "  }\n",
       "  if (root.Bokeh !== undefined) {\n",
       "    embed_document(root);\n",
       "  } else {\n",
       "    var attempts = 0;\n",
       "    var timer = setInterval(function(root) {\n",
       "      if (root.Bokeh !== undefined) {\n",
       "        clearInterval(timer);\n",
       "        embed_document(root);\n",
       "      } else {\n",
       "        attempts++;\n",
       "        if (attempts > 100) {\n",
       "          clearInterval(timer);\n",
       "          console.log(\"Bokeh: ERROR: Unable to run BokehJS code because BokehJS library is missing\");\n",
       "        }\n",
       "      }\n",
       "    }, 10, root)\n",
       "  }\n",
       "})(window);"
      ],
      "application/vnd.bokehjs_exec.v0+json": ""
     },
     "metadata": {
      "application/vnd.bokehjs_exec.v0+json": {
       "id": "1258"
      }
     },
     "output_type": "display_data"
    }
   ],
   "source": [
    "#Generating our dataset\n",
    "x_train = np.random.uniform(low=0, high=3,size=1000)\n",
    "y_train = ((x_train > 1) & (x_train < 2)).astype(int) \n",
    "\n",
    "#Creating the dataframe\n",
    "data = pd.DataFrame(data={\"x\":x_train, \"y\":y_train})\n",
    "data.sort_values(by=\"x\",inplace=True)\n",
    "\n",
    "#Plotting\n",
    "p = figure(plot_width=600, plot_height=400, x_axis_label=\"x\",y_axis_label=\"y\")\n",
    "p.xaxis.axis_label_text_font_size = \"14pt\"\n",
    "p.yaxis.axis_label_text_font_size = \"14pt\"\n",
    "p.line(data.x,data.y, line_width=2, legend=\"Actual\")\n",
    "show(p)"
   ]
  },
  {
   "cell_type": "code",
   "execution_count": 7,
   "metadata": {},
   "outputs": [
    {
     "name": "stderr",
     "output_type": "stream",
     "text": [
      "BokehDeprecationWarning: 'legend' keyword is deprecated, use explicit 'legend_label', 'legend_field', or 'legend_group' keywords instead\n",
      "BokehDeprecationWarning: 'legend' keyword is deprecated, use explicit 'legend_label', 'legend_field', or 'legend_group' keywords instead\n"
     ]
    },
    {
     "data": {
      "text/html": [
       "\n",
       "\n",
       "\n",
       "\n",
       "\n",
       "\n",
       "  <div class=\"bk-root\" id=\"51c8b40d-8d04-425d-9092-393a1a6fc44d\" data-root-id=\"1387\"></div>\n"
      ]
     },
     "metadata": {},
     "output_type": "display_data"
    },
    {
     "data": {
      "application/javascript": [
       "(function(root) {\n",
       "  function embed_document(root) {\n",
       "    \n",
       "  var docs_json = {\"f677cc80-b96c-4b4d-aef3-3193ac1d28e3\":{\"roots\":{\"references\":[{\"attributes\":{\"below\":[{\"id\":\"1396\",\"type\":\"LinearAxis\"}],\"center\":[{\"id\":\"1400\",\"type\":\"Grid\"},{\"id\":\"1405\",\"type\":\"Grid\"},{\"id\":\"1431\",\"type\":\"Legend\"}],\"left\":[{\"id\":\"1401\",\"type\":\"LinearAxis\"}],\"plot_height\":400,\"renderers\":[{\"id\":\"1422\",\"type\":\"GlyphRenderer\"},{\"id\":\"1436\",\"type\":\"GlyphRenderer\"}],\"title\":{\"id\":\"1424\",\"type\":\"Title\"},\"toolbar\":{\"id\":\"1412\",\"type\":\"Toolbar\"},\"x_range\":{\"id\":\"1388\",\"type\":\"DataRange1d\"},\"x_scale\":{\"id\":\"1392\",\"type\":\"LinearScale\"},\"y_range\":{\"id\":\"1390\",\"type\":\"DataRange1d\"},\"y_scale\":{\"id\":\"1394\",\"type\":\"LinearScale\"}},\"id\":\"1387\",\"subtype\":\"Figure\",\"type\":\"Plot\"},{\"attributes\":{},\"id\":\"1410\",\"type\":\"ResetTool\"},{\"attributes\":{\"dimension\":1,\"ticker\":{\"id\":\"1402\",\"type\":\"BasicTicker\"}},\"id\":\"1405\",\"type\":\"Grid\"},{\"attributes\":{\"callback\":null},\"id\":\"1388\",\"type\":\"DataRange1d\"},{\"attributes\":{\"line_alpha\":0.1,\"line_color\":\"#1f77b4\",\"line_width\":2,\"x\":{\"field\":\"x\"},\"y\":{\"field\":\"y\"}},\"id\":\"1421\",\"type\":\"Line\"},{\"attributes\":{},\"id\":\"1445\",\"type\":\"UnionRenderers\"},{\"attributes\":{},\"id\":\"1409\",\"type\":\"SaveTool\"},{\"attributes\":{\"label\":{\"value\":\"Actual\"},\"renderers\":[{\"id\":\"1422\",\"type\":\"GlyphRenderer\"}]},\"id\":\"1432\",\"type\":\"LegendItem\"},{\"attributes\":{\"label\":{\"value\":\"Prediction\"},\"renderers\":[{\"id\":\"1436\",\"type\":\"GlyphRenderer\"}]},\"id\":\"1447\",\"type\":\"LegendItem\"},{\"attributes\":{\"data_source\":{\"id\":\"1419\",\"type\":\"ColumnDataSource\"},\"glyph\":{\"id\":\"1420\",\"type\":\"Line\"},\"hover_glyph\":null,\"muted_glyph\":null,\"nonselection_glyph\":{\"id\":\"1421\",\"type\":\"Line\"},\"selection_glyph\":null,\"view\":{\"id\":\"1423\",\"type\":\"CDSView\"}},\"id\":\"1422\",\"type\":\"GlyphRenderer\"},{\"attributes\":{\"items\":[{\"id\":\"1432\",\"type\":\"LegendItem\"},{\"id\":\"1447\",\"type\":\"LegendItem\"}]},\"id\":\"1431\",\"type\":\"Legend\"},{\"attributes\":{\"line_alpha\":0.1,\"line_color\":\"#1f77b4\",\"line_width\":2,\"x\":{\"field\":\"x\"},\"y\":{\"field\":\"y\"}},\"id\":\"1435\",\"type\":\"Line\"},{\"attributes\":{},\"id\":\"1397\",\"type\":\"BasicTicker\"},{\"attributes\":{\"ticker\":{\"id\":\"1397\",\"type\":\"BasicTicker\"}},\"id\":\"1400\",\"type\":\"Grid\"},{\"attributes\":{\"data_source\":{\"id\":\"1433\",\"type\":\"ColumnDataSource\"},\"glyph\":{\"id\":\"1434\",\"type\":\"Line\"},\"hover_glyph\":null,\"muted_glyph\":null,\"nonselection_glyph\":{\"id\":\"1435\",\"type\":\"Line\"},\"selection_glyph\":null,\"view\":{\"id\":\"1437\",\"type\":\"CDSView\"}},\"id\":\"1436\",\"type\":\"GlyphRenderer\"},{\"attributes\":{\"callback\":null,\"data\":{\"x\":{\"__ndarray__\":\"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\",\"dtype\":\"float64\",\"shape\":[1000]},\"y\":[0,0,0,0,0,0,0,0,0,0,0,0,0,0,0,0,0,0,0,0,0,0,0,0,0,0,0,0,0,0,0,0,0,0,0,0,0,0,0,0,0,0,0,0,0,0,0,0,0,0,0,0,0,0,0,0,0,0,0,0,0,0,0,0,0,0,0,0,0,0,0,0,0,0,0,0,0,0,0,0,0,0,0,0,0,0,0,0,0,0,0,0,0,0,0,0,0,0,0,0,0,0,0,0,0,0,0,0,0,0,0,0,0,0,0,0,0,0,0,0,0,0,0,0,0,0,0,0,0,0,0,0,0,0,0,0,0,0,0,0,0,0,0,0,0,0,0,0,0,0,0,0,0,0,0,0,0,0,0,0,0,0,0,0,0,0,0,0,0,0,0,0,0,0,0,0,0,0,0,0,0,0,0,0,0,0,0,0,0,0,0,0,0,0,0,0,0,0,0,0,0,0,0,0,0,0,0,0,0,0,0,0,0,0,0,0,0,0,0,0,0,0,0,0,0,0,0,0,0,0,0,0,0,0,0,0,0,0,0,0,0,0,0,0,0,0,0,0,0,0,0,0,0,0,0,0,0,0,0,0,0,0,0,0,0,0,0,0,0,0,0,0,0,0,0,0,0,0,0,0,0,0,0,0,0,0,0,0,0,0,0,0,0,0,0,0,0,0,0,0,0,0,0,0,0,0,0,0,0,0,0,0,0,0,0,0,0,0,0,0,0,0,0,0,0,0,0,0,1,1,1,1,1,1,1,1,1,1,1,1,1,1,1,1,1,1,1,1,1,1,1,1,1,1,1,1,1,1,1,1,1,1,1,1,1,1,1,1,1,1,1,1,1,1,1,1,1,1,1,1,1,1,1,1,1,1,1,1,1,1,1,1,1,1,1,1,1,1,1,1,1,1,1,1,1,1,1,1,1,1,1,1,1,1,1,1,1,1,1,1,1,1,1,1,1,1,1,1,1,1,1,1,1,1,1,1,1,1,1,1,1,1,1,1,1,1,1,1,1,1,1,1,1,1,1,1,1,1,1,1,1,1,1,1,1,1,1,1,1,1,1,1,1,1,1,1,1,1,1,1,1,1,1,1,1,1,1,1,1,1,1,1,1,1,1,1,1,1,1,1,1,1,1,1,1,1,1,1,1,1,1,1,1,1,1,1,1,1,1,1,1,1,1,1,1,1,1,1,1,1,1,1,1,1,1,1,1,1,1,1,1,1,1,1,1,1,1,1,1,1,1,1,1,1,1,1,1,1,1,1,1,1,1,1,1,1,1,1,1,1,1,1,1,1,1,1,1,1,1,1,1,1,1,1,1,1,1,1,1,1,1,1,1,1,1,1,1,1,1,1,1,1,1,1,1,1,1,1,1,1,1,1,1,1,1,1,1,1,1,1,1,1,1,1,1,1,1,1,1,1,1,1,1,1,1,1,1,1,1,1,1,1,1,1,1,1,1,1,1,1,1,1,1,1,1,1,1,1,1,1,1,1,1,1,1,1,1,1,1,1,1,1,1,1,1,1,1,0,0,0,0,0,0,0,0,0,0,0,0,0,0,0,0,0,0,0,0,0,0,0,0,0,0,0,0,0,0,0,0,0,0,0,0,0,0,0,0,0,0,0,0,0,0,0,0,0,0,0,0,0,0,0,0,0,0,0,0,0,0,0,0,0,0,0,0,0,0,0,0,0,0,0,0,0,0,0,0,0,0,0,0,0,0,0,0,0,0,0,0,0,0,0,0,0,0,0,0,0,0,0,0,0,0,0,0,0,0,0,0,0,0,0,0,0,0,0,0,0,0,0,0,0,0,0,0,0,0,0,0,0,0,0,0,0,0,0,0,0,0,0,0,0,0,0,0,0,0,0,0,0,0,0,0,0,0,0,0,0,0,0,0,0,0,0,0,0,0,0,0,0,0,0,0,0,0,0,0,0,0,0,0,0,0,0,0,0,0,0,0,0,0,0,0,0,0,0,0,0,0,0,0,0,0,0,0,0,0,0,0,0,0,0,0,0,0,0,0,0,0,0,0,0,0,0,0,0,0,0,0,0,0,0,0,0,0,0,0,0,0,0,0,0,0,0,0,0,0,0,0,0,0,0,0,0,0,0,0,0,0,0,0,0,0,0,0,0,0,0,0,0,0,0,0,0,0,0,0,0,0,0,0,0,0,0,0,0,0,0,0,0,0,0,0,0,0,0,0,0,0,0,0,0,0,0,0,0,0,0,0,0,0,0,0,0,0,0,0,0,0,0]},\"selected\":{\"id\":\"1446\",\"type\":\"Selection\"},\"selection_policy\":{\"id\":\"1445\",\"type\":\"UnionRenderers\"}},\"id\":\"1419\",\"type\":\"ColumnDataSource\"},{\"attributes\":{\"source\":{\"id\":\"1419\",\"type\":\"ColumnDataSource\"}},\"id\":\"1423\",\"type\":\"CDSView\"},{\"attributes\":{\"axis_label\":\"y\",\"axis_label_text_font_size\":{\"value\":\"14pt\"},\"formatter\":{\"id\":\"1427\",\"type\":\"BasicTickFormatter\"},\"ticker\":{\"id\":\"1402\",\"type\":\"BasicTicker\"}},\"id\":\"1401\",\"type\":\"LinearAxis\"},{\"attributes\":{\"active_drag\":\"auto\",\"active_inspect\":\"auto\",\"active_multi\":null,\"active_scroll\":\"auto\",\"active_tap\":\"auto\",\"tools\":[{\"id\":\"1406\",\"type\":\"PanTool\"},{\"id\":\"1407\",\"type\":\"WheelZoomTool\"},{\"id\":\"1408\",\"type\":\"BoxZoomTool\"},{\"id\":\"1409\",\"type\":\"SaveTool\"},{\"id\":\"1410\",\"type\":\"ResetTool\"},{\"id\":\"1411\",\"type\":\"HelpTool\"}]},\"id\":\"1412\",\"type\":\"Toolbar\"},{\"attributes\":{},\"id\":\"1402\",\"type\":\"BasicTicker\"},{\"attributes\":{},\"id\":\"1394\",\"type\":\"LinearScale\"},{\"attributes\":{\"source\":{\"id\":\"1433\",\"type\":\"ColumnDataSource\"}},\"id\":\"1437\",\"type\":\"CDSView\"},{\"attributes\":{\"axis_label\":\"x\",\"axis_label_text_font_size\":{\"value\":\"14pt\"},\"formatter\":{\"id\":\"1429\",\"type\":\"BasicTickFormatter\"},\"ticker\":{\"id\":\"1397\",\"type\":\"BasicTicker\"}},\"id\":\"1396\",\"type\":\"LinearAxis\"},{\"attributes\":{\"callback\":null},\"id\":\"1390\",\"type\":\"DataRange1d\"},{\"attributes\":{},\"id\":\"1411\",\"type\":\"HelpTool\"},{\"attributes\":{},\"id\":\"1446\",\"type\":\"Selection\"},{\"attributes\":{},\"id\":\"1486\",\"type\":\"UnionRenderers\"},{\"attributes\":{},\"id\":\"1429\",\"type\":\"BasicTickFormatter\"},{\"attributes\":{\"text\":\"\"},\"id\":\"1424\",\"type\":\"Title\"},{\"attributes\":{\"line_color\":\"red\",\"line_width\":2,\"x\":{\"field\":\"x\"},\"y\":{\"field\":\"y\"}},\"id\":\"1434\",\"type\":\"Line\"},{\"attributes\":{\"bottom_units\":\"screen\",\"fill_alpha\":{\"value\":0.5},\"fill_color\":{\"value\":\"lightgrey\"},\"left_units\":\"screen\",\"level\":\"overlay\",\"line_alpha\":{\"value\":1.0},\"line_color\":{\"value\":\"black\"},\"line_dash\":[4,4],\"line_width\":{\"value\":2},\"render_mode\":\"css\",\"right_units\":\"screen\",\"top_units\":\"screen\"},\"id\":\"1430\",\"type\":\"BoxAnnotation\"},{\"attributes\":{},\"id\":\"1487\",\"type\":\"Selection\"},{\"attributes\":{},\"id\":\"1427\",\"type\":\"BasicTickFormatter\"},{\"attributes\":{\"line_color\":\"#1f77b4\",\"line_width\":2,\"x\":{\"field\":\"x\"},\"y\":{\"field\":\"y\"}},\"id\":\"1420\",\"type\":\"Line\"},{\"attributes\":{},\"id\":\"1392\",\"type\":\"LinearScale\"},{\"attributes\":{},\"id\":\"1406\",\"type\":\"PanTool\"},{\"attributes\":{},\"id\":\"1407\",\"type\":\"WheelZoomTool\"},{\"attributes\":{\"callback\":null,\"data\":{\"x\":{\"__ndarray__\":\"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\",\"dtype\":\"float64\",\"shape\":[1000]},\"y\":{\"__ndarray__\":\"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\",\"dtype\":\"float64\",\"shape\":[1000]}},\"selected\":{\"id\":\"1487\",\"type\":\"Selection\"},\"selection_policy\":{\"id\":\"1486\",\"type\":\"UnionRenderers\"}},\"id\":\"1433\",\"type\":\"ColumnDataSource\"},{\"attributes\":{\"overlay\":{\"id\":\"1430\",\"type\":\"BoxAnnotation\"}},\"id\":\"1408\",\"type\":\"BoxZoomTool\"}],\"root_ids\":[\"1387\"]},\"title\":\"Bokeh Application\",\"version\":\"1.4.0\"}};\n",
       "  var render_items = [{\"docid\":\"f677cc80-b96c-4b4d-aef3-3193ac1d28e3\",\"roots\":{\"1387\":\"51c8b40d-8d04-425d-9092-393a1a6fc44d\"}}];\n",
       "  root.Bokeh.embed.embed_items_notebook(docs_json, render_items);\n",
       "\n",
       "  }\n",
       "  if (root.Bokeh !== undefined) {\n",
       "    embed_document(root);\n",
       "  } else {\n",
       "    var attempts = 0;\n",
       "    var timer = setInterval(function(root) {\n",
       "      if (root.Bokeh !== undefined) {\n",
       "        clearInterval(timer);\n",
       "        embed_document(root);\n",
       "      } else {\n",
       "        attempts++;\n",
       "        if (attempts > 100) {\n",
       "          clearInterval(timer);\n",
       "          console.log(\"Bokeh: ERROR: Unable to run BokehJS code because BokehJS library is missing\");\n",
       "        }\n",
       "      }\n",
       "    }, 10, root)\n",
       "  }\n",
       "})(window);"
      ],
      "application/vnd.bokehjs_exec.v0+json": ""
     },
     "metadata": {
      "application/vnd.bokehjs_exec.v0+json": {
       "id": "1387"
      }
     },
     "output_type": "display_data"
    }
   ],
   "source": [
    "\"\"\"\n",
    "Fitting our Model\n",
    "\"\"\"\n",
    "\n",
    "#LightGBM requires a special dataset configuration\n",
    "lgb_data = lgb.Dataset(data = pd.DataFrame(data.x), label = pd.DataFrame(data.y))\n",
    "\n",
    "\n",
    "#Fitting our model\n",
    "params = {\n",
    "          \"learning_rate\":1,\n",
    "          \"max_depth\":2,\n",
    "          \"min_data_in_leaf\":5\n",
    "         }\n",
    "\n",
    "for training_rounds in range(1,2):\n",
    "    lr_model = lgb.train(params, lgb_data, num_boost_round=training_rounds)\n",
    "\n",
    "    data[\"prediction\"] = lr_model.predict(pd.DataFrame(data.x))\n",
    "\n",
    "\n",
    "    \"\"\"\n",
    "    Plotting Actual vs Predicted\n",
    "    \"\"\"\n",
    "    clear_output(wait=True)\n",
    "    #Plotting\n",
    "    p = figure(plot_width=600, plot_height=400, x_axis_label=\"x\",y_axis_label=\"y\")\n",
    "    p.xaxis.axis_label_text_font_size = \"14pt\"\n",
    "    p.yaxis.axis_label_text_font_size = \"14pt\"\n",
    "    p.line(data.x,data.y, line_width=2, legend=\"Actual\")\n",
    "    p.line(data.x,data.prediction, line_width=2, legend=\"Prediction\", color=\"red\")\n",
    "    show(p)"
   ]
  },
  {
   "cell_type": "markdown",
   "metadata": {},
   "source": [
    "### 04 Overfitting Minimization Demonstration"
   ]
  },
  {
   "cell_type": "code",
   "execution_count": 8,
   "metadata": {},
   "outputs": [
    {
     "name": "stderr",
     "output_type": "stream",
     "text": [
      "BokehDeprecationWarning: 'legend' keyword is deprecated, use explicit 'legend_label', 'legend_field', or 'legend_group' keywords instead\n"
     ]
    },
    {
     "data": {
      "text/html": [
       "\n",
       "\n",
       "\n",
       "\n",
       "\n",
       "\n",
       "  <div class=\"bk-root\" id=\"628b7d1b-d341-496b-bf22-d13f5d8c4b26\" data-root-id=\"1554\"></div>\n"
      ]
     },
     "metadata": {},
     "output_type": "display_data"
    },
    {
     "data": {
      "application/javascript": [
       "(function(root) {\n",
       "  function embed_document(root) {\n",
       "    \n",
       "  var docs_json = {\"b75f65a0-6c07-4d90-b721-15888c0281cc\":{\"roots\":{\"references\":[{\"attributes\":{\"below\":[{\"id\":\"1563\",\"type\":\"LinearAxis\"}],\"center\":[{\"id\":\"1567\",\"type\":\"Grid\"},{\"id\":\"1572\",\"type\":\"Grid\"},{\"id\":\"1598\",\"type\":\"Legend\"}],\"left\":[{\"id\":\"1568\",\"type\":\"LinearAxis\"}],\"plot_height\":400,\"renderers\":[{\"id\":\"1589\",\"type\":\"GlyphRenderer\"}],\"title\":{\"id\":\"1591\",\"type\":\"Title\"},\"toolbar\":{\"id\":\"1579\",\"type\":\"Toolbar\"},\"x_range\":{\"id\":\"1555\",\"type\":\"DataRange1d\"},\"x_scale\":{\"id\":\"1559\",\"type\":\"LinearScale\"},\"y_range\":{\"id\":\"1557\",\"type\":\"DataRange1d\"},\"y_scale\":{\"id\":\"1561\",\"type\":\"LinearScale\"}},\"id\":\"1554\",\"subtype\":\"Figure\",\"type\":\"Plot\"},{\"attributes\":{},\"id\":\"1569\",\"type\":\"BasicTicker\"},{\"attributes\":{},\"id\":\"1647\",\"type\":\"UnionRenderers\"},{\"attributes\":{\"dimension\":1,\"ticker\":{\"id\":\"1569\",\"type\":\"BasicTicker\"}},\"id\":\"1572\",\"type\":\"Grid\"},{\"attributes\":{},\"id\":\"1648\",\"type\":\"Selection\"},{\"attributes\":{\"data_source\":{\"id\":\"1586\",\"type\":\"ColumnDataSource\"},\"glyph\":{\"id\":\"1587\",\"type\":\"Circle\"},\"hover_glyph\":null,\"muted_glyph\":null,\"nonselection_glyph\":{\"id\":\"1588\",\"type\":\"Circle\"},\"selection_glyph\":null,\"view\":{\"id\":\"1590\",\"type\":\"CDSView\"}},\"id\":\"1589\",\"type\":\"GlyphRenderer\"},{\"attributes\":{},\"id\":\"1559\",\"type\":\"LinearScale\"},{\"attributes\":{\"ticker\":{\"id\":\"1564\",\"type\":\"BasicTicker\"}},\"id\":\"1567\",\"type\":\"Grid\"},{\"attributes\":{},\"id\":\"1596\",\"type\":\"BasicTickFormatter\"},{\"attributes\":{\"items\":[{\"id\":\"1599\",\"type\":\"LegendItem\"}]},\"id\":\"1598\",\"type\":\"Legend\"},{\"attributes\":{\"active_drag\":\"auto\",\"active_inspect\":\"auto\",\"active_multi\":null,\"active_scroll\":\"auto\",\"active_tap\":\"auto\",\"tools\":[{\"id\":\"1573\",\"type\":\"PanTool\"},{\"id\":\"1574\",\"type\":\"WheelZoomTool\"},{\"id\":\"1575\",\"type\":\"BoxZoomTool\"},{\"id\":\"1576\",\"type\":\"SaveTool\"},{\"id\":\"1577\",\"type\":\"ResetTool\"},{\"id\":\"1578\",\"type\":\"HelpTool\"}]},\"id\":\"1579\",\"type\":\"Toolbar\"},{\"attributes\":{\"callback\":null},\"id\":\"1555\",\"type\":\"DataRange1d\"},{\"attributes\":{\"callback\":null},\"id\":\"1557\",\"type\":\"DataRange1d\"},{\"attributes\":{},\"id\":\"1594\",\"type\":\"BasicTickFormatter\"},{\"attributes\":{\"label\":{\"value\":\"Actual\"},\"renderers\":[{\"id\":\"1589\",\"type\":\"GlyphRenderer\"}]},\"id\":\"1599\",\"type\":\"LegendItem\"},{\"attributes\":{},\"id\":\"1573\",\"type\":\"PanTool\"},{\"attributes\":{\"text\":\"\"},\"id\":\"1591\",\"type\":\"Title\"},{\"attributes\":{\"callback\":null,\"data\":{\"x\":{\"__ndarray__\":\"mm+Stb64/7/EySqjiVX9v+D+aXW/z/y/zuGVRYuh/L8GoR329tj7v/IfVCsNIvu/yI3tGKnz+b8ci57fpbD5v+iE1AdwN/m/dn5/wy3R+L/eQh5aNK74v16F8BilxPe/eotb6ak+978+6x4opyz3v5Zj7gLaHfe/fGZd4Sc49r+a0xZTNSv2v1622ah+LfS/8I7LnkHr87+YqX3Nz1/zvw51Dec4VvO/7IliqWUO878i6rnOlP3yv1CXsL5y3/K/NrvJWwCS8r+U44Hmit7xv/JV9AVwxfG/AMiHLBYu8b8mhDhXCiLxv1YS3Ox5xfC/2MX6UHfJ7788RHE7GT/vvxwRVSmIJO+/XJ+pHy0i7b/UfvvnAa7qv5DveQwJheq/TIL0L8da6b/8AglAFDLpv3y6aS6XOue/WDE0zgIM5b+kovf+U4jivwjnUgscO+K/ZEDDLyUP4b/E+JntBSjgv4iw3lz6It2/sPd0ry2K2b8Y5Y5zKbnYv9hUGFodptG/IMaNVUr9w78Q8CBB2QvBv8BKNfjNTKM/ADbYihDHsz+gr3yvpbm2P4Dx8bRCFr4/sNvu4XjZwD9g70D84wDHPyC2/TYSn8g/QOFseuAS0D+IiwKNKb/RPzA17EEVzdI/uEdowUDd0j9wdu1JSiDUP8h6RxQVX9Q/4NjR8sp81D9Ycbb+/37WPxBSM0CZCtc/eCSBcoS01z8IL2MOJ6LZP/AelYBwXNo/YPVr6YAF3T+Az+69x/neP6Tzk6xk0uM/ePddg89O5D+ELYbRm6nlP6QtyzgyVeY/KJmh2JEN5z/U+kP6+xDoP8Qc4Wlyauk/WNy1rhnz6T9go8GmH4TqP/jNnPidz+0/oJmPRzP27T+03U3YMz/uP0yKqFJvz+8/KimjWZP58D9EKizeMhTxP3olIb3IjPE/wsSbxkOO8z+cTsgWssj0PyKFSRe8qPY/+MLTTLbK9j+S/alESnD3P7xnOzbwZPg/6m2K3NTp+T9AYYx8kUf7P4b8XEEnYPw/2OKAC+6Y/j9uRTe+8s7+P3h7U2FDBf8/QFoixruI/z8=\",\"dtype\":\"float64\",\"shape\":[100]},\"y\":{\"__ndarray__\":\"fvLxIRvdIMClQHhrVvQUwN6vVhPViw/AVu5qzN5xEcAZZZr3l3IRwCkkwwNycBrAKApHIX24FMAA4ZpDdbAZwHO/veEXOhLAnIp8Bg9IEcAL/27opwsbwLqR9LzkmA7ANOmJuXepBMCs31JTLUIXwBgXNa2uWxDAUm8Qy0jwGcD/A8diY3sBwBILIIqdLRbAVLGCWJYO47+p2SswMbfzv1/tzQa24wzArYdou+S197/OxHyKgqXsP+R0uaR/hus/FJVYS5848T9RJwdaYU0MwMw/TD4NAfU/jLGPCUTG3j+YikO6CVHov3uBmTtmIPa/GKgwpr1ZB8AK4ViR32MRwN8ciTTUJ+0/gT0uXteoBcCG/FjrH4UKwNKvI+83XgZAjGw4K/LgA8AOmJ1sZoXjP8zF8Dt+0gBA4IDN+3Un+D9L+4qVnuEMQFaBWJrJ/PU/8TKy5Vw28j/Xq42oviEXQGDxe8SIFtK/jLgF+4ND4z/HUjgGxNzwP34Us/GTgAxADVxnsyrTEkCdtwthdzD+P3Xuloix0fU/g5uih5RQAEBDGhI1u9TXP9FiYEg74uc//P2zUZ2g478m/l2aAcbiv0CDBmUQwI8/N474OzOU/78f/YxO5Wv9P8qafZhbC/o/oMC/C37UEUD6i4FSTzXpP+7MyqKSaAvAROr/PHQU9z8O1chf5Cf6P6iEGrIoCQhAnGUTu/Mf8j9Wdbl3c+3RP81XjaEflfG//S15eS9QBcCLFkdLFivIP/V2kSAX+vo/2LNbV836CEDKxefTy6j5v1x/VkI5cPE/gyMhRxyxAkCq7+YYPOP/P803+QYe7to/pzbV2lOCCcB+eoDrrKPiPzUOSkGYQwRAxH29r6mizT+B9GLjG2jyP0ZiBSFV0dQ/+3LU4XQdAEAQctdjNYwBQGy9/ReyPxdAlx9pDT4r8L8w5LPtpyzAP3qwu4HvRQ9AoYzPyOdVA0BQFgyDzKsIQHrhsJdbDRtAmLexbJT/AUB8tzmJdt8YQMrohQG0pRRADAnO0BcUF0C3TzgvXmsiQF4H+/NQURhAkBz9ydjcJEA=\",\"dtype\":\"float64\",\"shape\":[100]}},\"selected\":{\"id\":\"1648\",\"type\":\"Selection\"},\"selection_policy\":{\"id\":\"1647\",\"type\":\"UnionRenderers\"}},\"id\":\"1586\",\"type\":\"ColumnDataSource\"},{\"attributes\":{},\"id\":\"1574\",\"type\":\"WheelZoomTool\"},{\"attributes\":{\"overlay\":{\"id\":\"1597\",\"type\":\"BoxAnnotation\"}},\"id\":\"1575\",\"type\":\"BoxZoomTool\"},{\"attributes\":{\"fill_color\":{\"value\":\"#1f77b4\"},\"line_color\":{\"value\":\"#1f77b4\"},\"line_width\":{\"value\":2},\"x\":{\"field\":\"x\"},\"y\":{\"field\":\"y\"}},\"id\":\"1587\",\"type\":\"Circle\"},{\"attributes\":{},\"id\":\"1576\",\"type\":\"SaveTool\"},{\"attributes\":{},\"id\":\"1577\",\"type\":\"ResetTool\"},{\"attributes\":{\"bottom_units\":\"screen\",\"fill_alpha\":{\"value\":0.5},\"fill_color\":{\"value\":\"lightgrey\"},\"left_units\":\"screen\",\"level\":\"overlay\",\"line_alpha\":{\"value\":1.0},\"line_color\":{\"value\":\"black\"},\"line_dash\":[4,4],\"line_width\":{\"value\":2},\"render_mode\":\"css\",\"right_units\":\"screen\",\"top_units\":\"screen\"},\"id\":\"1597\",\"type\":\"BoxAnnotation\"},{\"attributes\":{\"axis_label\":\"y\",\"axis_label_text_font_size\":{\"value\":\"14pt\"},\"formatter\":{\"id\":\"1594\",\"type\":\"BasicTickFormatter\"},\"ticker\":{\"id\":\"1569\",\"type\":\"BasicTicker\"}},\"id\":\"1568\",\"type\":\"LinearAxis\"},{\"attributes\":{},\"id\":\"1578\",\"type\":\"HelpTool\"},{\"attributes\":{\"fill_alpha\":{\"value\":0.1},\"fill_color\":{\"value\":\"#1f77b4\"},\"line_alpha\":{\"value\":0.1},\"line_color\":{\"value\":\"#1f77b4\"},\"line_width\":{\"value\":2},\"x\":{\"field\":\"x\"},\"y\":{\"field\":\"y\"}},\"id\":\"1588\",\"type\":\"Circle\"},{\"attributes\":{\"source\":{\"id\":\"1586\",\"type\":\"ColumnDataSource\"}},\"id\":\"1590\",\"type\":\"CDSView\"},{\"attributes\":{},\"id\":\"1564\",\"type\":\"BasicTicker\"},{\"attributes\":{\"axis_label\":\"x\",\"axis_label_text_font_size\":{\"value\":\"14pt\"},\"formatter\":{\"id\":\"1596\",\"type\":\"BasicTickFormatter\"},\"ticker\":{\"id\":\"1564\",\"type\":\"BasicTicker\"}},\"id\":\"1563\",\"type\":\"LinearAxis\"},{\"attributes\":{},\"id\":\"1561\",\"type\":\"LinearScale\"}],\"root_ids\":[\"1554\"]},\"title\":\"Bokeh Application\",\"version\":\"1.4.0\"}};\n",
       "  var render_items = [{\"docid\":\"b75f65a0-6c07-4d90-b721-15888c0281cc\",\"roots\":{\"1554\":\"628b7d1b-d341-496b-bf22-d13f5d8c4b26\"}}];\n",
       "  root.Bokeh.embed.embed_items_notebook(docs_json, render_items);\n",
       "\n",
       "  }\n",
       "  if (root.Bokeh !== undefined) {\n",
       "    embed_document(root);\n",
       "  } else {\n",
       "    var attempts = 0;\n",
       "    var timer = setInterval(function(root) {\n",
       "      if (root.Bokeh !== undefined) {\n",
       "        clearInterval(timer);\n",
       "        embed_document(root);\n",
       "      } else {\n",
       "        attempts++;\n",
       "        if (attempts > 100) {\n",
       "          clearInterval(timer);\n",
       "          console.log(\"Bokeh: ERROR: Unable to run BokehJS code because BokehJS library is missing\");\n",
       "        }\n",
       "      }\n",
       "    }, 10, root)\n",
       "  }\n",
       "})(window);"
      ],
      "application/vnd.bokehjs_exec.v0+json": ""
     },
     "metadata": {
      "application/vnd.bokehjs_exec.v0+json": {
       "id": "1554"
      }
     },
     "output_type": "display_data"
    }
   ],
   "source": [
    "#Generating our dataset\n",
    "x_train = np.random.uniform(low=-2, high=2,size=100)\n",
    "y_train = x_train*x_train*x_train + np.random.normal(scale=2,size=100)\n",
    "\n",
    "#Creating the dataframe\n",
    "data = pd.DataFrame(data={\"x\":x_train, \"y\":y_train})\n",
    "data.sort_values(by=\"x\",inplace=True)\n",
    "\n",
    "#Plotting\n",
    "p = figure(plot_width=600, plot_height=400, x_axis_label=\"x\",y_axis_label=\"y\")\n",
    "p.xaxis.axis_label_text_font_size = \"14pt\"\n",
    "p.yaxis.axis_label_text_font_size = \"14pt\"\n",
    "p.circle(data.x,data.y, line_width=2, legend=\"Actual\")\n",
    "show(p)"
   ]
  },
  {
   "cell_type": "code",
   "execution_count": 9,
   "metadata": {},
   "outputs": [
    {
     "name": "stderr",
     "output_type": "stream",
     "text": [
      "BokehDeprecationWarning: 'legend' keyword is deprecated, use explicit 'legend_label', 'legend_field', or 'legend_group' keywords instead\n",
      "BokehDeprecationWarning: 'legend' keyword is deprecated, use explicit 'legend_label', 'legend_field', or 'legend_group' keywords instead\n"
     ]
    },
    {
     "data": {
      "text/html": [
       "\n",
       "\n",
       "\n",
       "\n",
       "\n",
       "\n",
       "  <div class=\"bk-root\" id=\"285c9249-152c-4066-8b08-1373ae2f63a8\" data-root-id=\"9227\"></div>\n"
      ]
     },
     "metadata": {},
     "output_type": "display_data"
    },
    {
     "data": {
      "application/javascript": [
       "(function(root) {\n",
       "  function embed_document(root) {\n",
       "    \n",
       "  var docs_json = {\"30495afc-be79-4cb5-b7e8-8448c300c7a5\":{\"roots\":{\"references\":[{\"attributes\":{\"below\":[{\"id\":\"9236\",\"type\":\"LinearAxis\"}],\"center\":[{\"id\":\"9240\",\"type\":\"Grid\"},{\"id\":\"9245\",\"type\":\"Grid\"},{\"id\":\"9271\",\"type\":\"Legend\"}],\"left\":[{\"id\":\"9241\",\"type\":\"LinearAxis\"}],\"plot_height\":400,\"renderers\":[{\"id\":\"9262\",\"type\":\"GlyphRenderer\"},{\"id\":\"9276\",\"type\":\"GlyphRenderer\"}],\"title\":{\"id\":\"9264\",\"type\":\"Title\"},\"toolbar\":{\"id\":\"9252\",\"type\":\"Toolbar\"},\"x_range\":{\"id\":\"9228\",\"type\":\"DataRange1d\"},\"x_scale\":{\"id\":\"9232\",\"type\":\"LinearScale\"},\"y_range\":{\"id\":\"9230\",\"type\":\"DataRange1d\"},\"y_scale\":{\"id\":\"9234\",\"type\":\"LinearScale\"}},\"id\":\"9227\",\"subtype\":\"Figure\",\"type\":\"Plot\"},{\"attributes\":{\"source\":{\"id\":\"9259\",\"type\":\"ColumnDataSource\"}},\"id\":\"9263\",\"type\":\"CDSView\"},{\"attributes\":{\"ticker\":{\"id\":\"9237\",\"type\":\"BasicTicker\"}},\"id\":\"9240\",\"type\":\"Grid\"},{\"attributes\":{\"dimension\":1,\"ticker\":{\"id\":\"9242\",\"type\":\"BasicTicker\"}},\"id\":\"9245\",\"type\":\"Grid\"},{\"attributes\":{\"data_source\":{\"id\":\"9259\",\"type\":\"ColumnDataSource\"},\"glyph\":{\"id\":\"9260\",\"type\":\"Circle\"},\"hover_glyph\":null,\"muted_glyph\":null,\"nonselection_glyph\":{\"id\":\"9261\",\"type\":\"Circle\"},\"selection_glyph\":null,\"view\":{\"id\":\"9263\",\"type\":\"CDSView\"}},\"id\":\"9262\",\"type\":\"GlyphRenderer\"},{\"attributes\":{},\"id\":\"9242\",\"type\":\"BasicTicker\"},{\"attributes\":{\"items\":[{\"id\":\"9272\",\"type\":\"LegendItem\"},{\"id\":\"9287\",\"type\":\"LegendItem\"}]},\"id\":\"9271\",\"type\":\"Legend\"},{\"attributes\":{\"axis_label\":\"y\",\"axis_label_text_font_size\":{\"value\":\"14pt\"},\"formatter\":{\"id\":\"9267\",\"type\":\"BasicTickFormatter\"},\"ticker\":{\"id\":\"9242\",\"type\":\"BasicTicker\"}},\"id\":\"9241\",\"type\":\"LinearAxis\"},{\"attributes\":{},\"id\":\"9267\",\"type\":\"BasicTickFormatter\"},{\"attributes\":{\"source\":{\"id\":\"9273\",\"type\":\"ColumnDataSource\"}},\"id\":\"9277\",\"type\":\"CDSView\"},{\"attributes\":{},\"id\":\"9234\",\"type\":\"LinearScale\"},{\"attributes\":{\"callback\":null,\"data\":{\"x\":{\"__ndarray__\":\"mm+Stb64/7/EySqjiVX9v+D+aXW/z/y/zuGVRYuh/L8GoR329tj7v/IfVCsNIvu/yI3tGKnz+b8ci57fpbD5v+iE1AdwN/m/dn5/wy3R+L/eQh5aNK74v16F8BilxPe/eotb6ak+978+6x4opyz3v5Zj7gLaHfe/fGZd4Sc49r+a0xZTNSv2v1622ah+LfS/8I7LnkHr87+YqX3Nz1/zvw51Dec4VvO/7IliqWUO878i6rnOlP3yv1CXsL5y3/K/NrvJWwCS8r+U44Hmit7xv/JV9AVwxfG/AMiHLBYu8b8mhDhXCiLxv1YS3Ox5xfC/2MX6UHfJ7788RHE7GT/vvxwRVSmIJO+/XJ+pHy0i7b/UfvvnAa7qv5DveQwJheq/TIL0L8da6b/8AglAFDLpv3y6aS6XOue/WDE0zgIM5b+kovf+U4jivwjnUgscO+K/ZEDDLyUP4b/E+JntBSjgv4iw3lz6It2/sPd0ry2K2b8Y5Y5zKbnYv9hUGFodptG/IMaNVUr9w78Q8CBB2QvBv8BKNfjNTKM/ADbYihDHsz+gr3yvpbm2P4Dx8bRCFr4/sNvu4XjZwD9g70D84wDHPyC2/TYSn8g/QOFseuAS0D+IiwKNKb/RPzA17EEVzdI/uEdowUDd0j9wdu1JSiDUP8h6RxQVX9Q/4NjR8sp81D9Ycbb+/37WPxBSM0CZCtc/eCSBcoS01z8IL2MOJ6LZP/AelYBwXNo/YPVr6YAF3T+Az+69x/neP6Tzk6xk0uM/ePddg89O5D+ELYbRm6nlP6QtyzgyVeY/KJmh2JEN5z/U+kP6+xDoP8Qc4Wlyauk/WNy1rhnz6T9go8GmH4TqP/jNnPidz+0/oJmPRzP27T+03U3YMz/uP0yKqFJvz+8/KimjWZP58D9EKizeMhTxP3olIb3IjPE/wsSbxkOO8z+cTsgWssj0PyKFSRe8qPY/+MLTTLbK9j+S/alESnD3P7xnOzbwZPg/6m2K3NTp+T9AYYx8kUf7P4b8XEEnYPw/2OKAC+6Y/j9uRTe+8s7+P3h7U2FDBf8/QFoixruI/z8=\",\"dtype\":\"float64\",\"shape\":[100]},\"y\":{\"__ndarray__\":\"fvLxIRvdIMClQHhrVvQUwN6vVhPViw/AVu5qzN5xEcAZZZr3l3IRwCkkwwNycBrAKApHIX24FMAA4ZpDdbAZwHO/veEXOhLAnIp8Bg9IEcAL/27opwsbwLqR9LzkmA7ANOmJuXepBMCs31JTLUIXwBgXNa2uWxDAUm8Qy0jwGcD/A8diY3sBwBILIIqdLRbAVLGCWJYO47+p2SswMbfzv1/tzQa24wzArYdou+S197/OxHyKgqXsP+R0uaR/hus/FJVYS5848T9RJwdaYU0MwMw/TD4NAfU/jLGPCUTG3j+YikO6CVHov3uBmTtmIPa/GKgwpr1ZB8AK4ViR32MRwN8ciTTUJ+0/gT0uXteoBcCG/FjrH4UKwNKvI+83XgZAjGw4K/LgA8AOmJ1sZoXjP8zF8Dt+0gBA4IDN+3Un+D9L+4qVnuEMQFaBWJrJ/PU/8TKy5Vw28j/Xq42oviEXQGDxe8SIFtK/jLgF+4ND4z/HUjgGxNzwP34Us/GTgAxADVxnsyrTEkCdtwthdzD+P3Xuloix0fU/g5uih5RQAEBDGhI1u9TXP9FiYEg74uc//P2zUZ2g478m/l2aAcbiv0CDBmUQwI8/N474OzOU/78f/YxO5Wv9P8qafZhbC/o/oMC/C37UEUD6i4FSTzXpP+7MyqKSaAvAROr/PHQU9z8O1chf5Cf6P6iEGrIoCQhAnGUTu/Mf8j9Wdbl3c+3RP81XjaEflfG//S15eS9QBcCLFkdLFivIP/V2kSAX+vo/2LNbV836CEDKxefTy6j5v1x/VkI5cPE/gyMhRxyxAkCq7+YYPOP/P803+QYe7to/pzbV2lOCCcB+eoDrrKPiPzUOSkGYQwRAxH29r6mizT+B9GLjG2jyP0ZiBSFV0dQ/+3LU4XQdAEAQctdjNYwBQGy9/ReyPxdAlx9pDT4r8L8w5LPtpyzAP3qwu4HvRQ9AoYzPyOdVA0BQFgyDzKsIQHrhsJdbDRtAmLexbJT/AUB8tzmJdt8YQMrohQG0pRRADAnO0BcUF0C3TzgvXmsiQF4H+/NQURhAkBz9ydjcJEA=\",\"dtype\":\"float64\",\"shape\":[100]}},\"selected\":{\"id\":\"9286\",\"type\":\"Selection\"},\"selection_policy\":{\"id\":\"9285\",\"type\":\"UnionRenderers\"}},\"id\":\"9259\",\"type\":\"ColumnDataSource\"},{\"attributes\":{},\"id\":\"9610\",\"type\":\"UnionRenderers\"},{\"attributes\":{},\"id\":\"9269\",\"type\":\"BasicTickFormatter\"},{\"attributes\":{\"fill_color\":{\"value\":\"#1f77b4\"},\"line_color\":{\"value\":\"#1f77b4\"},\"line_width\":{\"value\":2},\"x\":{\"field\":\"x\"},\"y\":{\"field\":\"y\"}},\"id\":\"9260\",\"type\":\"Circle\"},{\"attributes\":{\"active_drag\":\"auto\",\"active_inspect\":\"auto\",\"active_multi\":null,\"active_scroll\":\"auto\",\"active_tap\":\"auto\",\"tools\":[{\"id\":\"9246\",\"type\":\"PanTool\"},{\"id\":\"9247\",\"type\":\"WheelZoomTool\"},{\"id\":\"9248\",\"type\":\"BoxZoomTool\"},{\"id\":\"9249\",\"type\":\"SaveTool\"},{\"id\":\"9250\",\"type\":\"ResetTool\"},{\"id\":\"9251\",\"type\":\"HelpTool\"}]},\"id\":\"9252\",\"type\":\"Toolbar\"},{\"attributes\":{\"bottom_units\":\"screen\",\"fill_alpha\":{\"value\":0.5},\"fill_color\":{\"value\":\"lightgrey\"},\"left_units\":\"screen\",\"level\":\"overlay\",\"line_alpha\":{\"value\":1.0},\"line_color\":{\"value\":\"black\"},\"line_dash\":[4,4],\"line_width\":{\"value\":2},\"render_mode\":\"css\",\"right_units\":\"screen\",\"top_units\":\"screen\"},\"id\":\"9270\",\"type\":\"BoxAnnotation\"},{\"attributes\":{\"axis_label\":\"x\",\"axis_label_text_font_size\":{\"value\":\"14pt\"},\"formatter\":{\"id\":\"9269\",\"type\":\"BasicTickFormatter\"},\"ticker\":{\"id\":\"9237\",\"type\":\"BasicTicker\"}},\"id\":\"9236\",\"type\":\"LinearAxis\"},{\"attributes\":{\"label\":{\"value\":\"Actual\"},\"renderers\":[{\"id\":\"9262\",\"type\":\"GlyphRenderer\"}]},\"id\":\"9272\",\"type\":\"LegendItem\"},{\"attributes\":{},\"id\":\"9246\",\"type\":\"PanTool\"},{\"attributes\":{},\"id\":\"9247\",\"type\":\"WheelZoomTool\"},{\"attributes\":{},\"id\":\"9611\",\"type\":\"Selection\"},{\"attributes\":{\"line_color\":\"red\",\"line_width\":2,\"x\":{\"field\":\"x\"},\"y\":{\"field\":\"y\"}},\"id\":\"9274\",\"type\":\"Line\"},{\"attributes\":{\"overlay\":{\"id\":\"9270\",\"type\":\"BoxAnnotation\"}},\"id\":\"9248\",\"type\":\"BoxZoomTool\"},{\"attributes\":{\"callback\":null,\"data\":{\"x\":{\"__ndarray__\":\"mm+Stb64/7/EySqjiVX9v+D+aXW/z/y/zuGVRYuh/L8GoR329tj7v/IfVCsNIvu/yI3tGKnz+b8ci57fpbD5v+iE1AdwN/m/dn5/wy3R+L/eQh5aNK74v16F8BilxPe/eotb6ak+978+6x4opyz3v5Zj7gLaHfe/fGZd4Sc49r+a0xZTNSv2v1622ah+LfS/8I7LnkHr87+YqX3Nz1/zvw51Dec4VvO/7IliqWUO878i6rnOlP3yv1CXsL5y3/K/NrvJWwCS8r+U44Hmit7xv/JV9AVwxfG/AMiHLBYu8b8mhDhXCiLxv1YS3Ox5xfC/2MX6UHfJ7788RHE7GT/vvxwRVSmIJO+/XJ+pHy0i7b/UfvvnAa7qv5DveQwJheq/TIL0L8da6b/8AglAFDLpv3y6aS6XOue/WDE0zgIM5b+kovf+U4jivwjnUgscO+K/ZEDDLyUP4b/E+JntBSjgv4iw3lz6It2/sPd0ry2K2b8Y5Y5zKbnYv9hUGFodptG/IMaNVUr9w78Q8CBB2QvBv8BKNfjNTKM/ADbYihDHsz+gr3yvpbm2P4Dx8bRCFr4/sNvu4XjZwD9g70D84wDHPyC2/TYSn8g/QOFseuAS0D+IiwKNKb/RPzA17EEVzdI/uEdowUDd0j9wdu1JSiDUP8h6RxQVX9Q/4NjR8sp81D9Ycbb+/37WPxBSM0CZCtc/eCSBcoS01z8IL2MOJ6LZP/AelYBwXNo/YPVr6YAF3T+Az+69x/neP6Tzk6xk0uM/ePddg89O5D+ELYbRm6nlP6QtyzgyVeY/KJmh2JEN5z/U+kP6+xDoP8Qc4Wlyauk/WNy1rhnz6T9go8GmH4TqP/jNnPidz+0/oJmPRzP27T+03U3YMz/uP0yKqFJvz+8/KimjWZP58D9EKizeMhTxP3olIb3IjPE/wsSbxkOO8z+cTsgWssj0PyKFSRe8qPY/+MLTTLbK9j+S/alESnD3P7xnOzbwZPg/6m2K3NTp+T9AYYx8kUf7P4b8XEEnYPw/2OKAC+6Y/j9uRTe+8s7+P3h7U2FDBf8/QFoixruI/z8=\",\"dtype\":\"float64\",\"shape\":[100]},\"y\":{\"__ndarray__\":\"UBmJlb9dEMBQGYmVv10QwFAZiZW/XRDAUBmJlb9dEMBQGYmVv10QwFAZiZW/XRDAUBmJlb9dEMBQGYmVv10QwFAZiZW/XRDAUBmJlb9dEMBQGYmVv10QwFAZiZW/XRDAKKKX8h96D8AoopfyH3oPwCiil/Ifeg/AKKKX8h96D8AoopfyH3oPwCiil/Ifeg/A+yE3NWYP97/7ITc1Zg/3v/shNzVmD/e/D0hdIpWa4b8PSF0ilZrhvw9IXSKVmuG/D0hdIpWa4b8PSF0ilZrhvw9IXSKVmuG/D0hdIpWa4b8PSF0ilZrhvw9IXSKVmuG/D0hdIpWa4b8PSF0ilZrhvw9IXSKVmuG/D0hdIpWa4b8PSF0ilZrhvw9IXSKVmuG/VvseOuRDxD9W+x465EPEP1b7HjrkQ8Q/rjFHFd2S7T+uMUcV3ZLtP64xRxXdku0/rjFHFd2S7T+uMUcV3ZLtP64xRxXdku0/rjFHFd2S7T+uMUcV3ZLtP64xRxXdku0/rjFHFd2S7T+uMUcV3ZLtP64xRxXdku0/rjFHFd2S7T+uMUcV3ZLtP64xRxXdku0/rjFHFd2S7T+uMUcV3ZLtP64xRxXdku0/rjFHFd2S7T+uMUcV3ZLtP64xRxXdku0/rjFHFd2S7T+uMUcV3ZLtP64xRxXdku0/rjFHFd2S7T+uMUcV3ZLtP64xRxXdku0/rjFHFd2S7T+uMUcV3ZLtP64xRxXdku0/rjFHFd2S7T+uMUcV3ZLtP64xRxXdku0/rjFHFd2S7T+uMUcV3ZLtP64xRxXdku0/rjFHFd2S7T+uMUcV3ZLtP64xRxXdku0/rjFHFd2S7T+uMUcV3ZLtP64xRxXdku0/rjFHFd2S7T+uMUcV3ZLtP1cMI15iGfE/VwwjXmIZ8T9XDCNeYhnxP1cMI15iGfE/VwwjXmIZ8T9XDCNeYhnxP6L6mWBmfANAovqZYGZ8A0Ci+plgZnwDQC0SRgaajRBALRJGBpqNEEAtEkYGmo0QQGkHtF0YRRVAaQe0XRhFFUBpB7RdGEUVQGkHtF0YRRVAaQe0XRhFFUA=\",\"dtype\":\"float64\",\"shape\":[100]}},\"selected\":{\"id\":\"9611\",\"type\":\"Selection\"},\"selection_policy\":{\"id\":\"9610\",\"type\":\"UnionRenderers\"}},\"id\":\"9273\",\"type\":\"ColumnDataSource\"},{\"attributes\":{},\"id\":\"9249\",\"type\":\"SaveTool\"},{\"attributes\":{\"callback\":null},\"id\":\"9228\",\"type\":\"DataRange1d\"},{\"attributes\":{},\"id\":\"9250\",\"type\":\"ResetTool\"},{\"attributes\":{},\"id\":\"9285\",\"type\":\"UnionRenderers\"},{\"attributes\":{\"text\":\"\"},\"id\":\"9264\",\"type\":\"Title\"},{\"attributes\":{},\"id\":\"9237\",\"type\":\"BasicTicker\"},{\"attributes\":{\"label\":{\"value\":\"Prediction\"},\"renderers\":[{\"id\":\"9276\",\"type\":\"GlyphRenderer\"}]},\"id\":\"9287\",\"type\":\"LegendItem\"},{\"attributes\":{},\"id\":\"9251\",\"type\":\"HelpTool\"},{\"attributes\":{\"line_alpha\":0.1,\"line_color\":\"#1f77b4\",\"line_width\":2,\"x\":{\"field\":\"x\"},\"y\":{\"field\":\"y\"}},\"id\":\"9275\",\"type\":\"Line\"},{\"attributes\":{\"callback\":null},\"id\":\"9230\",\"type\":\"DataRange1d\"},{\"attributes\":{\"data_source\":{\"id\":\"9273\",\"type\":\"ColumnDataSource\"},\"glyph\":{\"id\":\"9274\",\"type\":\"Line\"},\"hover_glyph\":null,\"muted_glyph\":null,\"nonselection_glyph\":{\"id\":\"9275\",\"type\":\"Line\"},\"selection_glyph\":null,\"view\":{\"id\":\"9277\",\"type\":\"CDSView\"}},\"id\":\"9276\",\"type\":\"GlyphRenderer\"},{\"attributes\":{\"fill_alpha\":{\"value\":0.1},\"fill_color\":{\"value\":\"#1f77b4\"},\"line_alpha\":{\"value\":0.1},\"line_color\":{\"value\":\"#1f77b4\"},\"line_width\":{\"value\":2},\"x\":{\"field\":\"x\"},\"y\":{\"field\":\"y\"}},\"id\":\"9261\",\"type\":\"Circle\"},{\"attributes\":{},\"id\":\"9286\",\"type\":\"Selection\"},{\"attributes\":{},\"id\":\"9232\",\"type\":\"LinearScale\"}],\"root_ids\":[\"9227\"]},\"title\":\"Bokeh Application\",\"version\":\"1.4.0\"}};\n",
       "  var render_items = [{\"docid\":\"30495afc-be79-4cb5-b7e8-8448c300c7a5\",\"roots\":{\"9227\":\"285c9249-152c-4066-8b08-1373ae2f63a8\"}}];\n",
       "  root.Bokeh.embed.embed_items_notebook(docs_json, render_items);\n",
       "\n",
       "  }\n",
       "  if (root.Bokeh !== undefined) {\n",
       "    embed_document(root);\n",
       "  } else {\n",
       "    var attempts = 0;\n",
       "    var timer = setInterval(function(root) {\n",
       "      if (root.Bokeh !== undefined) {\n",
       "        clearInterval(timer);\n",
       "        embed_document(root);\n",
       "      } else {\n",
       "        attempts++;\n",
       "        if (attempts > 100) {\n",
       "          clearInterval(timer);\n",
       "          console.log(\"Bokeh: ERROR: Unable to run BokehJS code because BokehJS library is missing\");\n",
       "        }\n",
       "      }\n",
       "    }, 10, root)\n",
       "  }\n",
       "})(window);"
      ],
      "application/vnd.bokehjs_exec.v0+json": ""
     },
     "metadata": {
      "application/vnd.bokehjs_exec.v0+json": {
       "id": "9227"
      }
     },
     "output_type": "display_data"
    }
   ],
   "source": [
    "\"\"\"\n",
    "Fitting our Model\n",
    "\"\"\"\n",
    "\n",
    "#LightGBM requires a special dataset configuration\n",
    "lgb_data = lgb.Dataset(data = pd.DataFrame(data.x), label = pd.DataFrame(data.y))\n",
    "\n",
    "\"\"\"\n",
    "Plotting Actual vs Predicted\n",
    "\"\"\"\n",
    "for min_gain in np.arange(0.0,25,1):\n",
    "    params = {\n",
    "          \"learning_rate\":0.1,\n",
    "          \"max_depth\":8,\n",
    "          \"min_data_in_leaf\":5,\n",
    "          \"min_gain_to_split\":min_gain\n",
    "         }\n",
    "    \n",
    "    lr_model = lgb.train(params, lgb_data, num_boost_round=50)\n",
    "\n",
    "    data[\"prediction\"] = lr_model.predict(pd.DataFrame(data.x))\n",
    "\n",
    "\n",
    "    \"\"\"\n",
    "    Plotting Actual vs Predicted\n",
    "    \"\"\"\n",
    "    clear_output(wait=True)\n",
    "    #Plotting\n",
    "    p = figure(plot_width=600, plot_height=400, x_axis_label=\"x\",y_axis_label=\"y\")\n",
    "    p.xaxis.axis_label_text_font_size = \"14pt\"\n",
    "    p.yaxis.axis_label_text_font_size = \"14pt\"\n",
    "    p.circle(data.x,data.y, line_width=2, legend=\"Actual\")\n",
    "    p.line(data.x,data.prediction, line_width=2, legend=\"Prediction\", color=\"red\")\n",
    "    show(p)"
   ]
  },
  {
   "cell_type": "code",
   "execution_count": null,
   "metadata": {},
   "outputs": [],
   "source": []
  }
 ],
 "metadata": {
  "kernelspec": {
   "display_name": "Python 3",
   "language": "python",
   "name": "python3"
  },
  "language_info": {
   "codemirror_mode": {
    "name": "ipython",
    "version": 3
   },
   "file_extension": ".py",
   "mimetype": "text/x-python",
   "name": "python",
   "nbconvert_exporter": "python",
   "pygments_lexer": "ipython3",
   "version": "3.7.6"
  }
 },
 "nbformat": 4,
 "nbformat_minor": 4
}
